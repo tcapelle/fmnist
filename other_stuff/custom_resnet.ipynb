{
 "cells": [
  {
   "cell_type": "code",
   "execution_count": 1,
   "id": "ede13964-6088-4921-8af6-1d9a02b4b9da",
   "metadata": {},
   "outputs": [],
   "source": [
    "import timm\n",
    "import torch.nn as nn"
   ]
  },
  {
   "cell_type": "code",
   "execution_count": 2,
   "id": "b463191b-a7b9-4cb9-9803-02424aa3ae5e",
   "metadata": {},
   "outputs": [],
   "source": [
    "from timm.models.convmixer import ConvMixer\n",
    "\n",
    "model = ConvMixer(dim=512, depth=6, patch_size=1, in_chans=1, num_classes=10)"
   ]
  },
  {
   "cell_type": "code",
   "execution_count": 27,
   "id": "50f18de6-acad-4bfc-856d-f8104704d74f",
   "metadata": {},
   "outputs": [
    {
     "data": {
      "text/plain": [
       "ConvMixer(\n",
       "  (stem): Sequential(\n",
       "    (0): Conv2d(1, 512, kernel_size=(1, 1), stride=(1, 1))\n",
       "    (1): GELU(approximate=none)\n",
       "    (2): BatchNorm2d(512, eps=1e-05, momentum=0.1, affine=True, track_running_stats=True)\n",
       "  )\n",
       "  (blocks): Sequential(\n",
       "    (0): Sequential(\n",
       "      (0): Residual(\n",
       "        (fn): Sequential(\n",
       "          (0): Conv2d(512, 512, kernel_size=(9, 9), stride=(1, 1), padding=same, groups=512)\n",
       "          (1): GELU(approximate=none)\n",
       "          (2): BatchNorm2d(512, eps=1e-05, momentum=0.1, affine=True, track_running_stats=True)\n",
       "        )\n",
       "      )\n",
       "      (1): Conv2d(512, 512, kernel_size=(1, 1), stride=(1, 1))\n",
       "      (2): GELU(approximate=none)\n",
       "      (3): BatchNorm2d(512, eps=1e-05, momentum=0.1, affine=True, track_running_stats=True)\n",
       "    )\n",
       "    (1): Sequential(\n",
       "      (0): Residual(\n",
       "        (fn): Sequential(\n",
       "          (0): Conv2d(512, 512, kernel_size=(9, 9), stride=(1, 1), padding=same, groups=512)\n",
       "          (1): GELU(approximate=none)\n",
       "          (2): BatchNorm2d(512, eps=1e-05, momentum=0.1, affine=True, track_running_stats=True)\n",
       "        )\n",
       "      )\n",
       "      (1): Conv2d(512, 512, kernel_size=(1, 1), stride=(1, 1))\n",
       "      (2): GELU(approximate=none)\n",
       "      (3): BatchNorm2d(512, eps=1e-05, momentum=0.1, affine=True, track_running_stats=True)\n",
       "    )\n",
       "    (2): Sequential(\n",
       "      (0): Residual(\n",
       "        (fn): Sequential(\n",
       "          (0): Conv2d(512, 512, kernel_size=(9, 9), stride=(1, 1), padding=same, groups=512)\n",
       "          (1): GELU(approximate=none)\n",
       "          (2): BatchNorm2d(512, eps=1e-05, momentum=0.1, affine=True, track_running_stats=True)\n",
       "        )\n",
       "      )\n",
       "      (1): Conv2d(512, 512, kernel_size=(1, 1), stride=(1, 1))\n",
       "      (2): GELU(approximate=none)\n",
       "      (3): BatchNorm2d(512, eps=1e-05, momentum=0.1, affine=True, track_running_stats=True)\n",
       "    )\n",
       "    (3): Sequential(\n",
       "      (0): Residual(\n",
       "        (fn): Sequential(\n",
       "          (0): Conv2d(512, 512, kernel_size=(9, 9), stride=(1, 1), padding=same, groups=512)\n",
       "          (1): GELU(approximate=none)\n",
       "          (2): BatchNorm2d(512, eps=1e-05, momentum=0.1, affine=True, track_running_stats=True)\n",
       "        )\n",
       "      )\n",
       "      (1): Conv2d(512, 512, kernel_size=(1, 1), stride=(1, 1))\n",
       "      (2): GELU(approximate=none)\n",
       "      (3): BatchNorm2d(512, eps=1e-05, momentum=0.1, affine=True, track_running_stats=True)\n",
       "    )\n",
       "    (4): Sequential(\n",
       "      (0): Residual(\n",
       "        (fn): Sequential(\n",
       "          (0): Conv2d(512, 512, kernel_size=(9, 9), stride=(1, 1), padding=same, groups=512)\n",
       "          (1): GELU(approximate=none)\n",
       "          (2): BatchNorm2d(512, eps=1e-05, momentum=0.1, affine=True, track_running_stats=True)\n",
       "        )\n",
       "      )\n",
       "      (1): Conv2d(512, 512, kernel_size=(1, 1), stride=(1, 1))\n",
       "      (2): GELU(approximate=none)\n",
       "      (3): BatchNorm2d(512, eps=1e-05, momentum=0.1, affine=True, track_running_stats=True)\n",
       "    )\n",
       "    (5): Sequential(\n",
       "      (0): Residual(\n",
       "        (fn): Sequential(\n",
       "          (0): Conv2d(512, 512, kernel_size=(9, 9), stride=(1, 1), padding=same, groups=512)\n",
       "          (1): GELU(approximate=none)\n",
       "          (2): BatchNorm2d(512, eps=1e-05, momentum=0.1, affine=True, track_running_stats=True)\n",
       "        )\n",
       "      )\n",
       "      (1): Conv2d(512, 512, kernel_size=(1, 1), stride=(1, 1))\n",
       "      (2): GELU(approximate=none)\n",
       "      (3): BatchNorm2d(512, eps=1e-05, momentum=0.1, affine=True, track_running_stats=True)\n",
       "    )\n",
       "  )\n",
       "  (pooling): SelectAdaptivePool2d (pool_type=avg, flatten=Flatten(start_dim=1, end_dim=-1))\n",
       "  (head): Linear(in_features=512, out_features=10, bias=True)\n",
       ")"
      ]
     },
     "execution_count": 27,
     "metadata": {},
     "output_type": "execute_result"
    }
   ],
   "source": [
    "model"
   ]
  },
  {
   "cell_type": "code",
   "execution_count": 28,
   "id": "dd15aafb-e0a1-46cf-b6fa-597174ef57ad",
   "metadata": {},
   "outputs": [
    {
     "data": {
      "text/plain": [
       "torch.Size([8, 512, 28, 28])"
      ]
     },
     "execution_count": 28,
     "metadata": {},
     "output_type": "execute_result"
    }
   ],
   "source": [
    "y = model.stem(torch.rand(8,1,28,28))\n",
    "y.shape"
   ]
  },
  {
   "cell_type": "code",
   "execution_count": 29,
   "id": "e6bc8392-73c4-4926-9e2f-d5198521807e",
   "metadata": {},
   "outputs": [
    {
     "data": {
      "text/plain": [
       "torch.Size([8, 512, 28, 28])"
      ]
     },
     "execution_count": 29,
     "metadata": {},
     "output_type": "execute_result"
    }
   ],
   "source": [
    "model.blocks[0](y).shape"
   ]
  },
  {
   "cell_type": "code",
   "execution_count": 79,
   "id": "b621d38f-5200-42fe-9082-49c2a91a352a",
   "metadata": {},
   "outputs": [],
   "source": [
    "model.head = nn.Sequential(nn.Dropout(0.1), \n",
    "                           nn.Flatten(), \n",
    "                           nn.Linear(512, 10, bias=False), \n",
    "                           nn.BatchNorm1d(10)\n",
    "                          )"
   ]
  },
  {
   "cell_type": "code",
   "execution_count": 80,
   "id": "640bb274-e0a4-433f-ac3f-4fd355813225",
   "metadata": {},
   "outputs": [
    {
     "data": {
      "text/plain": [
       "ConvMixer(\n",
       "  (stem): Sequential(\n",
       "    (0): Conv2d(1, 512, kernel_size=(2, 2), stride=(2, 2))\n",
       "    (1): GELU(approximate=none)\n",
       "    (2): BatchNorm2d(512, eps=1e-05, momentum=0.1, affine=True, track_running_stats=True)\n",
       "  )\n",
       "  (blocks): Sequential(\n",
       "    (0): Sequential(\n",
       "      (0): Residual(\n",
       "        (fn): Sequential(\n",
       "          (0): Conv2d(512, 512, kernel_size=(9, 9), stride=(1, 1), padding=same, groups=512)\n",
       "          (1): GELU(approximate=none)\n",
       "          (2): BatchNorm2d(512, eps=1e-05, momentum=0.1, affine=True, track_running_stats=True)\n",
       "        )\n",
       "      )\n",
       "      (1): Conv2d(512, 512, kernel_size=(1, 1), stride=(1, 1))\n",
       "      (2): GELU(approximate=none)\n",
       "      (3): BatchNorm2d(512, eps=1e-05, momentum=0.1, affine=True, track_running_stats=True)\n",
       "    )\n",
       "    (1): Sequential(\n",
       "      (0): Residual(\n",
       "        (fn): Sequential(\n",
       "          (0): Conv2d(512, 512, kernel_size=(9, 9), stride=(1, 1), padding=same, groups=512)\n",
       "          (1): GELU(approximate=none)\n",
       "          (2): BatchNorm2d(512, eps=1e-05, momentum=0.1, affine=True, track_running_stats=True)\n",
       "        )\n",
       "      )\n",
       "      (1): Conv2d(512, 512, kernel_size=(1, 1), stride=(1, 1))\n",
       "      (2): GELU(approximate=none)\n",
       "      (3): BatchNorm2d(512, eps=1e-05, momentum=0.1, affine=True, track_running_stats=True)\n",
       "    )\n",
       "    (2): Sequential(\n",
       "      (0): Residual(\n",
       "        (fn): Sequential(\n",
       "          (0): Conv2d(512, 512, kernel_size=(9, 9), stride=(1, 1), padding=same, groups=512)\n",
       "          (1): GELU(approximate=none)\n",
       "          (2): BatchNorm2d(512, eps=1e-05, momentum=0.1, affine=True, track_running_stats=True)\n",
       "        )\n",
       "      )\n",
       "      (1): Conv2d(512, 512, kernel_size=(1, 1), stride=(1, 1))\n",
       "      (2): GELU(approximate=none)\n",
       "      (3): BatchNorm2d(512, eps=1e-05, momentum=0.1, affine=True, track_running_stats=True)\n",
       "    )\n",
       "    (3): Sequential(\n",
       "      (0): Residual(\n",
       "        (fn): Sequential(\n",
       "          (0): Conv2d(512, 512, kernel_size=(9, 9), stride=(1, 1), padding=same, groups=512)\n",
       "          (1): GELU(approximate=none)\n",
       "          (2): BatchNorm2d(512, eps=1e-05, momentum=0.1, affine=True, track_running_stats=True)\n",
       "        )\n",
       "      )\n",
       "      (1): Conv2d(512, 512, kernel_size=(1, 1), stride=(1, 1))\n",
       "      (2): GELU(approximate=none)\n",
       "      (3): BatchNorm2d(512, eps=1e-05, momentum=0.1, affine=True, track_running_stats=True)\n",
       "    )\n",
       "    (4): Sequential(\n",
       "      (0): Residual(\n",
       "        (fn): Sequential(\n",
       "          (0): Conv2d(512, 512, kernel_size=(9, 9), stride=(1, 1), padding=same, groups=512)\n",
       "          (1): GELU(approximate=none)\n",
       "          (2): BatchNorm2d(512, eps=1e-05, momentum=0.1, affine=True, track_running_stats=True)\n",
       "        )\n",
       "      )\n",
       "      (1): Conv2d(512, 512, kernel_size=(1, 1), stride=(1, 1))\n",
       "      (2): GELU(approximate=none)\n",
       "      (3): BatchNorm2d(512, eps=1e-05, momentum=0.1, affine=True, track_running_stats=True)\n",
       "    )\n",
       "    (5): Sequential(\n",
       "      (0): Residual(\n",
       "        (fn): Sequential(\n",
       "          (0): Conv2d(512, 512, kernel_size=(9, 9), stride=(1, 1), padding=same, groups=512)\n",
       "          (1): GELU(approximate=none)\n",
       "          (2): BatchNorm2d(512, eps=1e-05, momentum=0.1, affine=True, track_running_stats=True)\n",
       "        )\n",
       "      )\n",
       "      (1): Conv2d(512, 512, kernel_size=(1, 1), stride=(1, 1))\n",
       "      (2): GELU(approximate=none)\n",
       "      (3): BatchNorm2d(512, eps=1e-05, momentum=0.1, affine=True, track_running_stats=True)\n",
       "    )\n",
       "  )\n",
       "  (pooling): SelectAdaptivePool2d (pool_type=avg, flatten=Flatten(start_dim=1, end_dim=-1))\n",
       "  (head): Sequential(\n",
       "    (0): Dropout(p=0.1, inplace=False)\n",
       "    (1): Flatten(start_dim=1, end_dim=-1)\n",
       "    (2): Linear(in_features=512, out_features=10, bias=False)\n",
       "    (3): BatchNorm1d(10, eps=1e-05, momentum=0.1, affine=True, track_running_stats=True)\n",
       "  )\n",
       ")"
      ]
     },
     "execution_count": 80,
     "metadata": {},
     "output_type": "execute_result"
    }
   ],
   "source": [
    "model"
   ]
  },
  {
   "cell_type": "code",
   "execution_count": 81,
   "id": "b31bb32c-b033-4236-ae35-340398a4e3c6",
   "metadata": {},
   "outputs": [],
   "source": [
    "from timm.models.mlp_mixer import MlpMixer"
   ]
  },
  {
   "cell_type": "code",
   "execution_count": 66,
   "id": "0d7f47e4-7155-4cbe-ae70-41f4292234e7",
   "metadata": {},
   "outputs": [],
   "source": [
    "model = MlpMixer(img_size=28, num_blocks=6, embed_dim=512, patch_size=2, in_chans=1, num_classes=10)"
   ]
  },
  {
   "cell_type": "code",
   "execution_count": 67,
   "id": "b528ddda-4866-4598-9755-de2681132f2b",
   "metadata": {},
   "outputs": [
    {
     "data": {
      "text/plain": [
       "tensor([[0., 0., 0., 0., 0., 0., 0., 0., 0., 0.],\n",
       "        [0., 0., 0., 0., 0., 0., 0., 0., 0., 0.],\n",
       "        [0., 0., 0., 0., 0., 0., 0., 0., 0., 0.],\n",
       "        [0., 0., 0., 0., 0., 0., 0., 0., 0., 0.],\n",
       "        [0., 0., 0., 0., 0., 0., 0., 0., 0., 0.],\n",
       "        [0., 0., 0., 0., 0., 0., 0., 0., 0., 0.],\n",
       "        [0., 0., 0., 0., 0., 0., 0., 0., 0., 0.],\n",
       "        [0., 0., 0., 0., 0., 0., 0., 0., 0., 0.]], grad_fn=<AddmmBackward0>)"
      ]
     },
     "execution_count": 67,
     "metadata": {},
     "output_type": "execute_result"
    }
   ],
   "source": [
    "model(torch.rand(8,1,28,28))"
   ]
  },
  {
   "cell_type": "markdown",
   "id": "56a61d11-6851-4e58-afbf-fa44d20de9ce",
   "metadata": {},
   "source": [
    "## LSUV"
   ]
  },
  {
   "cell_type": "code",
   "execution_count": 88,
   "id": "1bdf541e-2979-4452-adf7-176c2cc03743",
   "metadata": {},
   "outputs": [],
   "source": [
    "from lsuv import LSUVinit"
   ]
  },
  {
   "cell_type": "code",
   "execution_count": null,
   "id": "96962a00-4b5f-44b0-accd-730855b3fc83",
   "metadata": {},
   "outputs": [
    {
     "name": "stdout",
     "output_type": "stream",
     "text": [
      "Starting LSUV\n",
      "Total layers to process: 14\n",
      "(512, 1, 2, 2) (512, 4)\n",
      "(512, 1, 9, 9) (512, 81)\n",
      "(512, 512, 1, 1) (512, 512)\n",
      "(512, 1, 9, 9) (512, 81)\n",
      "(512, 512, 1, 1) (512, 512)\n",
      "(512, 1, 9, 9) (512, 81)\n",
      "(512, 512, 1, 1) (512, 512)\n",
      "(512, 1, 9, 9) (512, 81)\n",
      "(512, 512, 1, 1) (512, 512)\n",
      "(512, 1, 9, 9) (512, 81)\n",
      "(512, 512, 1, 1) (512, 512)\n",
      "(512, 1, 9, 9) (512, 81)\n",
      "(512, 512, 1, 1) (512, 512)\n",
      "(10, 512) (10, 512)\n",
      "Orthonorm done\n",
      "0\n",
      "std at layer  0  =  0.023811925\n",
      "std at layer  0  =  0.9999996 mean =  1.9766846e-09\n",
      "finish at layer 0\n",
      "1\n",
      "std at layer  1  =  0.6850876\n",
      "std at layer  1  =  0.99999994 mean =  -1.140395e-09\n",
      "finish at layer 1\n",
      "2\n",
      "std at layer  2  =  0.25060916\n",
      "std at layer  2  =  0.9999999 mean =  -5.169791e-09\n",
      "finish at layer 2\n",
      "3\n",
      "std at layer  3  =  1.1467748\n",
      "std at layer  3  =  1.0000002 mean =  -1.7486057e-09\n",
      "finish at layer 3\n",
      "4\n",
      "std at layer  4  =  0.24164225\n",
      "std at layer  4  =  1.0 mean =  -3.421185e-09\n",
      "finish at layer 4\n",
      "5\n",
      "std at layer  5  =  1.1498828\n",
      "std at layer  5  =  0.9999999 mean =  1.9766846e-09\n",
      "finish at layer 5\n",
      "6\n",
      "std at layer  6  =  0.23777999\n",
      "std at layer  6  =  1.0 mean =  5.701975e-10\n",
      "finish at layer 6\n",
      "7\n",
      "std at layer  7  =  1.228435\n",
      "std at layer  7  =  1.0 mean =  -2.5848954e-09\n",
      "finish at layer 7\n",
      "8\n",
      "std at layer  8  =  0.23736425\n",
      "std at layer  8  =  1.0 mean =  2.8890006e-09\n",
      "finish at layer 8\n",
      "9\n",
      "std at layer  9  =  1.0943958\n",
      "finish at layer 9\n",
      "10\n",
      "std at layer  10  =  0.25714266\n",
      "std at layer  10  =  0.9999999 mean =  3.0410532e-10\n",
      "finish at layer 10\n",
      "11\n",
      "std at layer  11  =  1.2275565\n",
      "std at layer  11  =  0.99999994 mean =  -1.0035476e-08\n",
      "finish at layer 11\n",
      "12\n",
      "std at layer  12  =  0.62962997\n",
      "std at layer  12  =  1.0 mean =  -0.48626485\n",
      "finish at layer 12\n",
      "13\n",
      "std at layer  13  =  1.0\n",
      "finish at layer 13\n",
      "LSUV init done!\n"
     ]
    },
    {
     "data": {
      "text/plain": [
       "ConvMixer(\n",
       "  (stem): Sequential(\n",
       "    (0): Conv2d(1, 512, kernel_size=(2, 2), stride=(2, 2))\n",
       "    (1): GELU(approximate=none)\n",
       "    (2): BatchNorm2d(512, eps=1e-05, momentum=0.1, affine=True, track_running_stats=True)\n",
       "  )\n",
       "  (blocks): Sequential(\n",
       "    (0): Sequential(\n",
       "      (0): Residual(\n",
       "        (fn): Sequential(\n",
       "          (0): Conv2d(512, 512, kernel_size=(9, 9), stride=(1, 1), padding=same, groups=512)\n",
       "          (1): GELU(approximate=none)\n",
       "          (2): BatchNorm2d(512, eps=1e-05, momentum=0.1, affine=True, track_running_stats=True)\n",
       "        )\n",
       "      )\n",
       "      (1): Conv2d(512, 512, kernel_size=(1, 1), stride=(1, 1))\n",
       "      (2): GELU(approximate=none)\n",
       "      (3): BatchNorm2d(512, eps=1e-05, momentum=0.1, affine=True, track_running_stats=True)\n",
       "    )\n",
       "    (1): Sequential(\n",
       "      (0): Residual(\n",
       "        (fn): Sequential(\n",
       "          (0): Conv2d(512, 512, kernel_size=(9, 9), stride=(1, 1), padding=same, groups=512)\n",
       "          (1): GELU(approximate=none)\n",
       "          (2): BatchNorm2d(512, eps=1e-05, momentum=0.1, affine=True, track_running_stats=True)\n",
       "        )\n",
       "      )\n",
       "      (1): Conv2d(512, 512, kernel_size=(1, 1), stride=(1, 1))\n",
       "      (2): GELU(approximate=none)\n",
       "      (3): BatchNorm2d(512, eps=1e-05, momentum=0.1, affine=True, track_running_stats=True)\n",
       "    )\n",
       "    (2): Sequential(\n",
       "      (0): Residual(\n",
       "        (fn): Sequential(\n",
       "          (0): Conv2d(512, 512, kernel_size=(9, 9), stride=(1, 1), padding=same, groups=512)\n",
       "          (1): GELU(approximate=none)\n",
       "          (2): BatchNorm2d(512, eps=1e-05, momentum=0.1, affine=True, track_running_stats=True)\n",
       "        )\n",
       "      )\n",
       "      (1): Conv2d(512, 512, kernel_size=(1, 1), stride=(1, 1))\n",
       "      (2): GELU(approximate=none)\n",
       "      (3): BatchNorm2d(512, eps=1e-05, momentum=0.1, affine=True, track_running_stats=True)\n",
       "    )\n",
       "    (3): Sequential(\n",
       "      (0): Residual(\n",
       "        (fn): Sequential(\n",
       "          (0): Conv2d(512, 512, kernel_size=(9, 9), stride=(1, 1), padding=same, groups=512)\n",
       "          (1): GELU(approximate=none)\n",
       "          (2): BatchNorm2d(512, eps=1e-05, momentum=0.1, affine=True, track_running_stats=True)\n",
       "        )\n",
       "      )\n",
       "      (1): Conv2d(512, 512, kernel_size=(1, 1), stride=(1, 1))\n",
       "      (2): GELU(approximate=none)\n",
       "      (3): BatchNorm2d(512, eps=1e-05, momentum=0.1, affine=True, track_running_stats=True)\n",
       "    )\n",
       "    (4): Sequential(\n",
       "      (0): Residual(\n",
       "        (fn): Sequential(\n",
       "          (0): Conv2d(512, 512, kernel_size=(9, 9), stride=(1, 1), padding=same, groups=512)\n",
       "          (1): GELU(approximate=none)\n",
       "          (2): BatchNorm2d(512, eps=1e-05, momentum=0.1, affine=True, track_running_stats=True)\n",
       "        )\n",
       "      )\n",
       "      (1): Conv2d(512, 512, kernel_size=(1, 1), stride=(1, 1))\n",
       "      (2): GELU(approximate=none)\n",
       "      (3): BatchNorm2d(512, eps=1e-05, momentum=0.1, affine=True, track_running_stats=True)\n",
       "    )\n",
       "    (5): Sequential(\n",
       "      (0): Residual(\n",
       "        (fn): Sequential(\n",
       "          (0): Conv2d(512, 512, kernel_size=(9, 9), stride=(1, 1), padding=same, groups=512)\n",
       "          (1): GELU(approximate=none)\n",
       "          (2): BatchNorm2d(512, eps=1e-05, momentum=0.1, affine=True, track_running_stats=True)\n",
       "        )\n",
       "      )\n",
       "      (1): Conv2d(512, 512, kernel_size=(1, 1), stride=(1, 1))\n",
       "      (2): GELU(approximate=none)\n",
       "      (3): BatchNorm2d(512, eps=1e-05, momentum=0.1, affine=True, track_running_stats=True)\n",
       "    )\n",
       "  )\n",
       "  (pooling): SelectAdaptivePool2d (pool_type=avg, flatten=Flatten(start_dim=1, end_dim=-1))\n",
       "  (head): Sequential(\n",
       "    (0): Dropout(p=0.1, inplace=False)\n",
       "    (1): Flatten(start_dim=1, end_dim=-1)\n",
       "    (2): Linear(in_features=512, out_features=10, bias=False)\n",
       "    (3): BatchNorm1d(10, eps=1e-05, momentum=0.1, affine=True, track_running_stats=True)\n",
       "  )\n",
       ")"
      ]
     },
     "execution_count": 89,
     "metadata": {},
     "output_type": "execute_result"
    }
   ],
   "source": [
    "LSUVinit(model, torch.rand(8,1,28,28))"
   ]
  },
  {
   "cell_type": "code",
   "execution_count": 8,
   "id": "c9f8cc3b-2de9-4277-a3a8-a432ebe0395e",
   "metadata": {},
   "outputs": [
    {
     "data": {
      "text/plain": [
       "784"
      ]
     },
     "execution_count": 8,
     "metadata": {},
     "output_type": "execute_result"
    }
   ],
   "source": [
    "28*28"
   ]
  },
  {
   "cell_type": "code",
   "execution_count": 9,
   "id": "e36eaf73-0221-45e0-ac5e-815ef7457f5e",
   "metadata": {},
   "outputs": [
    {
     "data": {
      "text/plain": [
       "196.0"
      ]
     },
     "execution_count": 9,
     "metadata": {},
     "output_type": "execute_result"
    }
   ],
   "source": [
    "784/4"
   ]
  },
  {
   "cell_type": "code",
   "execution_count": 10,
   "id": "03641007-d76d-40d5-bbc4-63ba6870c87c",
   "metadata": {},
   "outputs": [],
   "source": [
    "from timm.models.vision_transformer import _create_vision_transformer"
   ]
  },
  {
   "cell_type": "code",
   "execution_count": 18,
   "id": "ae65dc49-7254-4f79-b97c-b5395c1aad3f",
   "metadata": {},
   "outputs": [
    {
     "data": {
      "text/plain": [
       "49.0"
      ]
     },
     "execution_count": 18,
     "metadata": {},
     "output_type": "execute_result"
    }
   ],
   "source": [
    "196/4"
   ]
  },
  {
   "cell_type": "code",
   "execution_count": 22,
   "id": "98c09357-f6e4-471a-b78c-c5db0f225c70",
   "metadata": {},
   "outputs": [],
   "source": [
    "import torch\n",
    "impo"
   ]
  },
  {
   "cell_type": "code",
   "execution_count": 55,
   "id": "6e8dbc08-e7a6-449c-83df-5546618bb439",
   "metadata": {},
   "outputs": [],
   "source": [
    "model_kwargs = dict(patch_size=4, embed_dim=196, depth=6, num_heads=4, mlp_ratio=2)\n",
    "model = _create_vision_transformer('vit_tiny_patch16_224', \n",
    "                                   pretrained=False, img_size=(28,28), \n",
    "                                   in_chans=1, num_classes=10, **model_kwargs)"
   ]
  },
  {
   "cell_type": "code",
   "execution_count": 56,
   "id": "8fda110f-59f6-4923-b6c1-1292d5a37d07",
   "metadata": {},
   "outputs": [
    {
     "data": {
      "text/plain": [
       "tensor([[-0.4554, -0.9780,  0.3091, -0.0304, -0.1631, -0.1910, -0.3284,  0.3185,\n",
       "         -0.6398,  0.2459],\n",
       "        [-0.4108, -0.9881,  0.2846, -0.0276, -0.1513, -0.2406, -0.3656,  0.2758,\n",
       "         -0.5802,  0.2881],\n",
       "        [-0.4505, -0.9508,  0.2980, -0.0093, -0.1395, -0.1933, -0.3460,  0.2509,\n",
       "         -0.6060,  0.2479],\n",
       "        [-0.4234, -0.9500,  0.2942, -0.0135, -0.1061, -0.2226, -0.3869,  0.2177,\n",
       "         -0.5944,  0.2690],\n",
       "        [-0.4265, -0.9537,  0.2643, -0.0190, -0.1551, -0.2123, -0.3399,  0.2686,\n",
       "         -0.5882,  0.2720],\n",
       "        [-0.4033, -0.9565,  0.3059, -0.0146, -0.1096, -0.2289, -0.3612,  0.2706,\n",
       "         -0.5907,  0.2718],\n",
       "        [-0.4280, -0.9611,  0.2979, -0.0407, -0.1418, -0.2003, -0.3567,  0.2698,\n",
       "         -0.6025,  0.2526],\n",
       "        [-0.4447, -0.9428,  0.2932, -0.0353, -0.1133, -0.2081, -0.3517,  0.2351,\n",
       "         -0.5904,  0.2545]], grad_fn=<AddmmBackward0>)"
      ]
     },
     "execution_count": 56,
     "metadata": {},
     "output_type": "execute_result"
    }
   ],
   "source": [
    "model(torch.rand(8,1,28,28))"
   ]
  },
  {
   "cell_type": "code",
   "execution_count": null,
   "id": "fc15d73b-de20-45e2-b236-b09a62b8557e",
   "metadata": {},
   "outputs": [],
   "source": []
  },
  {
   "cell_type": "code",
   "execution_count": null,
   "id": "1ee7759c-f551-495b-b04b-15bb5b38791f",
   "metadata": {},
   "outputs": [],
   "source": []
  },
  {
   "cell_type": "code",
   "execution_count": null,
   "id": "620a8289-a80f-4da4-8b6c-fe8e7e898a1b",
   "metadata": {},
   "outputs": [],
   "source": []
  },
  {
   "cell_type": "code",
   "execution_count": 30,
   "id": "dde81a77-339f-40a2-a210-10f6df17d237",
   "metadata": {},
   "outputs": [],
   "source": [
    "import fastcore.all as fc\n",
    "from functools import partial\n",
    "\n",
    "import torch\n",
    "import torch.nn as nn\n",
    "\n",
    "def conv(ni, nf, ks=3, stride=2, act=nn.ReLU, norm=None, bias=None):\n",
    "    if bias is None: bias = not isinstance(norm, (nn.BatchNorm1d,nn.BatchNorm2d,nn.BatchNorm3d))\n",
    "    layers = [nn.Conv2d(ni, nf, stride=stride, kernel_size=ks, padding=ks//2, bias=bias)]\n",
    "    if norm: layers.append(norm(nf))\n",
    "    if act: layers.append(act())\n",
    "    return nn.Sequential(*layers)\n",
    "\n",
    "class GeneralRelu(nn.Module):\n",
    "    def __init__(self, leak=None, sub=None, maxv=None):\n",
    "        super().__init__()\n",
    "        self.leak,self.sub,self.maxv = leak,sub,maxv\n",
    "\n",
    "    def forward(self, x): \n",
    "        x = F.leaky_relu(x,self.leak) if self.leak is not None else F.relu(x)\n",
    "        if self.sub is not None: x -= self.sub\n",
    "        if self.maxv is not None: x.clamp_max_(self.maxv)\n",
    "        return x\n",
    "\n",
    "act_gr = partial(GeneralRelu, leak=0.1, sub=0.4)\n",
    "\n",
    "# %% ../nbs/13_resnet.ipynb 14\n",
    "def _conv_block(ni, nf, stride, act=act_gr, norm=None, ks=3):\n",
    "    conv2 = conv(nf, nf, stride=stride, act=None, norm=norm, ks=ks)\n",
    "    if norm: init.constant_(conv2[1].weight, 0.)\n",
    "    return nn.Sequential(conv(ni, nf, stride=1, act=act, norm=norm, ks=ks), conv2)\n",
    "\n",
    "class ResBlock(nn.Module):\n",
    "    def __init__(self, ni, nf, stride=1, ks=3, act=act_gr, norm=None):\n",
    "        super().__init__()\n",
    "        self.convs = _conv_block(ni, nf, stride, act=act, ks=ks)\n",
    "        self.idconv = fc.noop if ni==nf else conv(ni, nf, ks=1, stride=1, act=None)\n",
    "        self.pool = fc.noop if stride==1 else nn.AvgPool2d(2, ceil_mode=True)\n",
    "        self.act = act()\n",
    "\n",
    "    def forward(self, x): return self.act(self.convs(x) + self.idconv(self.pool(x)))\n",
    "\n",
    "\n",
    "def get_model(act=nn.ReLU, nfs=(16,32,64,128,256,512), norm=nn.BatchNorm2d):\n",
    "    layers = [ResBlock(1, 16, ks=5, stride=1, act=act, norm=norm)]\n",
    "    layers += [ResBlock(nfs[i], nfs[i+1], act=act, norm=norm, stride=2) for i in range(len(nfs)-1)]\n",
    "    layers += [nn.Flatten(), nn.Linear(nfs[-1], 10, bias=False), nn.BatchNorm1d(10)]\n",
    "    return nn.Sequential(*layers)\n",
    "\n",
    "get_model()"
   ]
  },
  {
   "cell_type": "markdown",
   "id": "36f25d98-cde3-4b9a-8c37-6732f63dd448",
   "metadata": {},
   "source": [
    "## DataLoader"
   ]
  },
  {
   "cell_type": "code",
   "execution_count": 1,
   "id": "5a744b63-8dc0-432d-b448-5069b8794ab1",
   "metadata": {},
   "outputs": [],
   "source": [
    "import torch"
   ]
  },
  {
   "cell_type": "code",
   "execution_count": 12,
   "id": "6d2d6b67-38bb-4645-9cb7-6c8a87bad665",
   "metadata": {},
   "outputs": [],
   "source": [
    "# 1 minute video 1 frame/s\n",
    "video = torch.rand(60, 3, 256, 256)\n",
    "labels = torch.rand(60)"
   ]
  },
  {
   "cell_type": "markdown",
   "id": "e8149f36-6f4d-49ba-bc1a-41355dbcfdb3",
   "metadata": {},
   "source": [
    "if the you want to feed 5 seconds each time to the model, you need to construct a dataset that does this:"
   ]
  },
  {
   "cell_type": "code",
   "execution_count": 16,
   "id": "65b52acc-fea4-4fa4-b7e2-6afe7350e07d",
   "metadata": {},
   "outputs": [],
   "source": [
    "class VideoDataset:\n",
    "    def __init__(self, video, labels, frames_to_slice=5):\n",
    "        self.video = video\n",
    "        self.labels = labels\n",
    "        self.frames_to_slice = frames_to_slice\n",
    "    \n",
    "    def __getitem__(self, idx):\n",
    "        x = self.video[idx:idx+self.frames_to_slice]\n",
    "        y = self.labels[idx+self.frames_to_slice]\n",
    "        return x, y \n",
    "    \n",
    "    def __len__(self):\n",
    "        return len(self.video) - self.frames_to_slice # we cannot get 5 seconds at the last 4 frames"
   ]
  },
  {
   "cell_type": "code",
   "execution_count": 17,
   "id": "d57d29b1-8b54-4e92-b1d1-8e28f0ead5b8",
   "metadata": {},
   "outputs": [],
   "source": [
    "ds = VideoDataset(video, labels)"
   ]
  },
  {
   "cell_type": "code",
   "execution_count": 19,
   "id": "93464f51-fd0c-4b92-bc1c-31d9821e2753",
   "metadata": {},
   "outputs": [
    {
     "data": {
      "text/plain": [
       "(torch.Size([5, 3, 256, 256]), torch.Size([]))"
      ]
     },
     "execution_count": 19,
     "metadata": {},
     "output_type": "execute_result"
    }
   ],
   "source": [
    "x,y = ds[0]\n",
    "x.shape, y.shape"
   ]
  },
  {
   "cell_type": "code",
   "execution_count": 22,
   "id": "4249460c-48ec-469d-bd2e-1cd165a31471",
   "metadata": {},
   "outputs": [],
   "source": [
    "dl = torch.utils.data.DataLoader(ds, batch_size=3)"
   ]
  },
  {
   "cell_type": "code",
   "execution_count": 23,
   "id": "d56eab6e-9e50-41e1-a206-7e64f0217338",
   "metadata": {},
   "outputs": [],
   "source": [
    "x,y = next(iter(dl))"
   ]
  },
  {
   "cell_type": "code",
   "execution_count": 25,
   "id": "0281548a-a556-4a54-99b3-90b130a85bb0",
   "metadata": {},
   "outputs": [
    {
     "data": {
      "text/plain": [
       "(torch.Size([3, 5, 3, 256, 256]), torch.Size([3]))"
      ]
     },
     "execution_count": 25,
     "metadata": {},
     "output_type": "execute_result"
    }
   ],
   "source": [
    "x.shape, y.shape"
   ]
  }
 ],
 "metadata": {
  "kernelspec": {
   "display_name": "Python 3 (ipykernel)",
   "language": "python",
   "name": "python3"
  },
  "language_info": {
   "codemirror_mode": {
    "name": "ipython",
    "version": 3
   },
   "file_extension": ".py",
   "mimetype": "text/x-python",
   "name": "python",
   "nbconvert_exporter": "python",
   "pygments_lexer": "ipython3",
   "version": "3.9.15"
  }
 },
 "nbformat": 4,
 "nbformat_minor": 5
}
