{
 "cells": [
  {
   "cell_type": "markdown",
   "metadata": {},
   "source": [
    "# Fashion MNIST: A Classification Problem\n",
    "\n",
    "Let's train the best possible model on the Fashion MNIST dataset. \n",
    "- For 5 and 20 epochs"
   ]
  },
  {
   "cell_type": "code",
   "execution_count": 1,
   "metadata": {},
   "outputs": [],
   "source": [
    "import torch\n",
    "import torch.nn.functional as F\n",
    "from torch.utils.data import DataLoader\n",
    "from torch.optim import AdamW\n",
    "\n",
    "import torchvision.transforms as T\n",
    "from torchvision.datasets import FashionMNIST\n",
    "\n",
    "import timm\n",
    "\n",
    "from torcheval.metrics import MulticlassAccuracy, Mean\n",
    "\n",
    "from utils import to_device"
   ]
  },
  {
   "cell_type": "markdown",
   "metadata": {},
   "source": [
    "Setup"
   ]
  },
  {
   "cell_type": "code",
   "execution_count": 2,
   "metadata": {},
   "outputs": [],
   "source": [
    "mean, std = (0.28, 0.35)  # computed from FashionMNIST train set\n",
    "\n",
    "train_tfms = T.Compose([\n",
    "    T.RandomHorizontalFlip(),\n",
    "    T.ToTensor(),\n",
    "    T.Normalize(mean, std),\n",
    "])\n",
    "\n",
    "val_tfms = T.Compose([\n",
    "    T.ToTensor(),\n",
    "    T.Normalize(mean, std),\n",
    "])\n",
    "\n",
    "tfms = {\"train\": train_tfms, \"valid\":val_tfms}"
   ]
  },
  {
   "attachments": {},
   "cell_type": "markdown",
   "metadata": {},
   "source": [
    "Data"
   ]
  },
  {
   "cell_type": "code",
   "execution_count": 21,
   "metadata": {},
   "outputs": [],
   "source": [
    "data_path=\".\"\n",
    "tfms=tfms\n",
    "device = \"cuda\" if torch.cuda.is_available() else \"cpu\"\n",
    "# device = \"mps\"\n",
    "num_workers = 6 \n",
    "bs=512"
   ]
  },
  {
   "cell_type": "code",
   "execution_count": 22,
   "metadata": {},
   "outputs": [],
   "source": [
    "train_ds = FashionMNIST(data_path, download=True, transform=tfms[\"train\"])\n",
    "valid_ds = FashionMNIST(data_path, download=True, train=False, transform=tfms[\"valid\"])\n",
    "\n",
    "train_dataloader = DataLoader(train_ds, batch_size=bs, shuffle=True, num_workers=num_workers)\n",
    "valid_dataloader = DataLoader(valid_ds, batch_size=bs*2, shuffle=False, num_workers=num_workers)"
   ]
  },
  {
   "cell_type": "markdown",
   "metadata": {},
   "source": [
    "A model"
   ]
  },
  {
   "cell_type": "code",
   "execution_count": 23,
   "metadata": {},
   "outputs": [],
   "source": [
    "model_name = \"resnet18\"\n",
    "\n",
    "model = timm.create_model(model_name, pretrained=False, num_classes=10, in_chans=1).to(device)"
   ]
  },
  {
   "cell_type": "code",
   "execution_count": 24,
   "metadata": {},
   "outputs": [],
   "source": [
    "lr = 1e-3\n",
    "wd = 0.01\n",
    "\n",
    "optim = AdamW(model.parameters(), lr=lr, weight_decay=wd)"
   ]
  },
  {
   "cell_type": "markdown",
   "metadata": {},
   "source": [
    "A Training loop"
   ]
  },
  {
   "cell_type": "code",
   "execution_count": 25,
   "metadata": {},
   "outputs": [],
   "source": [
    "train_acc = MulticlassAccuracy(device=device)\n",
    "valid_acc = MulticlassAccuracy(device=device)\n",
    "metric_loss = Mean()\n",
    "\n",
    "epochs = 5"
   ]
  },
  {
   "cell_type": "code",
   "execution_count": 26,
   "metadata": {},
   "outputs": [],
   "source": [
    "def train_step(optim, loss):\n",
    "    optim.zero_grad()\n",
    "    loss.backward()\n",
    "    optim.step()\n",
    "    return loss\n",
    "\n",
    "def do_one_epoch(dl, train=True):\n",
    "    if train:\n",
    "        model.train()\n",
    "    else:\n",
    "        model.eval()\n",
    "    preds = []\n",
    "    for b in dl:\n",
    "        with (torch.inference_mode() if not train else torch.enable_grad()):\n",
    "            # grab a batch\n",
    "            images, labels = to_device(b, device)\n",
    "\n",
    "            # compute preds on batch\n",
    "            preds_b = model(images)\n",
    "            preds.append(preds_b)\n",
    "\n",
    "            # compute loss\n",
    "            loss = F.cross_entropy(preds_b, labels)\n",
    "\n",
    "            # store value on metric\n",
    "            metric_loss.update(loss.detach().cpu(), weight=len(images))\n",
    "            \n",
    "            if train:\n",
    "                # update weights\n",
    "                train_step(optim, loss)\n",
    "\n",
    "                # update metrics\n",
    "                train_acc.update(preds_b, labels)\n",
    "                \n",
    "            else:\n",
    "                valid_acc.update(preds_b, labels)        \n",
    "    \n",
    "    return torch.cat(preds, dim=0), metric_loss.compute()"
   ]
  },
  {
   "cell_type": "code",
   "execution_count": 27,
   "metadata": {},
   "outputs": [],
   "source": [
    "preds, loss = do_one_epoch(train_dataloader, train=True)"
   ]
  },
  {
   "cell_type": "code",
   "execution_count": 28,
   "metadata": {},
   "outputs": [],
   "source": [
    "def print_metrics(epoch, train_loss, val_loss):\n",
    "    print(f\"epoch: {epoch:3}, train_loss: {train_loss:10.3f}, train_acc: {train_acc.compute():3.3f}   ||   val_loss: {val_loss:10.3f}, val_acc: {valid_acc.compute():3.3f}\")\n",
    "\n",
    "def reset_metrics():\n",
    "    train_acc.reset()\n",
    "    valid_acc.reset()\n",
    "    metric_loss.reset()\n",
    "\n",
    "def fit(epochs):         \n",
    "    for epoch in range(epochs):\n",
    "        _, train_loss = do_one_epoch(train_dataloader, train=True)\n",
    "        \n",
    "        ## validation\n",
    "        _, val_loss = do_one_epoch(valid_dataloader, train=False)\n",
    "        print_metrics(epoch, train_loss, val_loss)\n",
    "        reset_metrics()"
   ]
  },
  {
   "cell_type": "code",
   "execution_count": 30,
   "metadata": {},
   "outputs": [
    {
     "name": "stdout",
     "output_type": "stream",
     "text": [
      "epoch:   0, train_loss:      0.241, train_acc: 0.910   ||   val_loss:      0.249, val_acc: 0.892\n",
      "epoch:   1, train_loss:      0.223, train_acc: 0.917   ||   val_loss:      0.232, val_acc: 0.897\n",
      "epoch:   2, train_loss:      0.203, train_acc: 0.925   ||   val_loss:      0.217, val_acc: 0.888\n",
      "epoch:   3, train_loss:      0.196, train_acc: 0.925   ||   val_loss:      0.213, val_acc: 0.884\n",
      "epoch:   4, train_loss:      0.180, train_acc: 0.933   ||   val_loss:      0.196, val_acc: 0.894\n"
     ]
    }
   ],
   "source": [
    "fit(5)"
   ]
  },
  {
   "cell_type": "code",
   "execution_count": null,
   "metadata": {},
   "outputs": [],
   "source": []
  }
 ],
 "metadata": {
  "kernelspec": {
   "display_name": "pt",
   "language": "python",
   "name": "python3"
  },
  "language_info": {
   "codemirror_mode": {
    "name": "ipython",
    "version": 3
   },
   "file_extension": ".py",
   "mimetype": "text/x-python",
   "name": "python",
   "nbconvert_exporter": "python",
   "pygments_lexer": "ipython3",
   "version": "3.9.15"
  },
  "orig_nbformat": 4,
  "vscode": {
   "interpreter": {
    "hash": "46cdb14809c747b8cc12708199e800e164d76c8b037e620c8b08b57216507c7e"
   }
  }
 },
 "nbformat": 4,
 "nbformat_minor": 2
}
