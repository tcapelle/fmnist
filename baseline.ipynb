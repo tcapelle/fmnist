{
 "cells": [
  {
   "cell_type": "code",
   "execution_count": 4,
   "id": "54555572-acf6-4f3b-807c-b3cf841f84b7",
   "metadata": {},
   "outputs": [],
   "source": [
    "import random\n",
    "from types import SimpleNamespace\n",
    "from contextlib import nullcontext\n",
    "\n",
    "import wandb\n",
    "import timm\n",
    "import torchvision as tv\n",
    "import torchvision.transforms as T\n",
    "\n",
    "import pandas as pd\n",
    "from fastprogress import progress_bar\n",
    "\n",
    "from torcheval.metrics import MulticlassAccuracy, Mean\n",
    "\n",
    "import torch\n",
    "import torch.nn as nn\n",
    "from torch.optim import AdamW\n",
    "from torch.optim.lr_scheduler import OneCycleLR\n",
    "from torch.utils.data import DataLoader\n",
    "\n",
    "from preds_logger import PredsLogger"
   ]
  },
  {
   "cell_type": "code",
   "execution_count": 5,
   "id": "90aaf390-5e5c-4032-984b-b7e52c76b3b4",
   "metadata": {},
   "outputs": [],
   "source": [
    "def set_seed(s, reproducible=False):\n",
    "    \"Set random seed for `random`, `torch`, and `numpy` (where available)\"\n",
    "    try: torch.manual_seed(s)\n",
    "    except NameError: pass\n",
    "    try: torch.cuda.manual_seed_all(s)\n",
    "    except NameError: pass\n",
    "    try: np.random.seed(s%(2**32-1))\n",
    "    except NameError: pass\n",
    "    random.seed(s)\n",
    "    if reproducible:\n",
    "        torch.backends.cudnn.deterministic = True\n",
    "        torch.backends.cudnn.benchmark = False"
   ]
  },
  {
   "cell_type": "markdown",
   "id": "9614fa2c-f65c-439a-a93d-28f187b23c01",
   "metadata": {},
   "source": [
    "## Get the dataset"
   ]
  },
  {
   "cell_type": "code",
   "execution_count": 6,
   "id": "0aea6f70-863c-40d0-b709-edfeb36f8d71",
   "metadata": {},
   "outputs": [],
   "source": [
    "WANDB_PROJECT = \"fmnist_bench\"\n",
    "WANDB_ENTITY = \"capecape\""
   ]
  },
  {
   "cell_type": "code",
   "execution_count": 11,
   "id": "480250fe-908d-43b8-bff1-30df466c77c0",
   "metadata": {},
   "outputs": [],
   "source": [
    "config = SimpleNamespace(epochs=20, model_name=\"resnet10t\", bs=512, seed=42)"
   ]
  },
  {
   "cell_type": "code",
   "execution_count": 12,
   "id": "4282f82d-f467-41d5-aa66-d45b79ec95be",
   "metadata": {},
   "outputs": [],
   "source": [
    "set_seed(config.seed)"
   ]
  },
  {
   "cell_type": "code",
   "execution_count": 13,
   "id": "c763da07-4d6b-42f1-83eb-ab0b3efa0b99",
   "metadata": {},
   "outputs": [],
   "source": [
    "mean, std = (0.28, 0.35)"
   ]
  },
  {
   "cell_type": "code",
   "execution_count": 14,
   "id": "cf537eee-51d0-4fc9-bee3-0eb87bd08264",
   "metadata": {},
   "outputs": [],
   "source": [
    "train_tfms = T.Compose([\n",
    "    T.RandomCrop(28, padding=1), \n",
    "    T.RandomHorizontalFlip(),\n",
    "    T.ToTensor(),\n",
    "    T.Normalize(mean, std),\n",
    "    T.RandomErasing(scale=(0.02, 0.25), value=\"random\"),\n",
    "])\n",
    "\n",
    "val_tfms = T.Compose([\n",
    "    T.ToTensor(),\n",
    "    T.Normalize(mean, std),\n",
    "])\n",
    "\n",
    "tfms = {\"train\": train_tfms, \"valid\":val_tfms}"
   ]
  },
  {
   "cell_type": "code",
   "execution_count": 15,
   "id": "865ae22e-a5e9-4d6f-afbd-1ef7cae07974",
   "metadata": {},
   "outputs": [],
   "source": [
    "def to_device(t, device):\n",
    "    if isinstance(t, (tuple, list)):\n",
    "        return [_t.to(device) for _t in t]\n",
    "    elif isinstance(t, torch.Tensor):\n",
    "        return t.to(device)\n",
    "    else:\n",
    "        raise(\"Not a Tensor or list of Tensors\")\n",
    "    return t     "
   ]
  },
  {
   "cell_type": "code",
   "execution_count": 16,
   "id": "06ec3972-ec4c-4b90-8d22-c4d7d92aa799",
   "metadata": {
    "tags": []
   },
   "outputs": [],
   "source": [
    "class ImageModel:\n",
    "    def __init__(self, model, data_path=\".\", tfms=tfms, device=\"cuda\", bs=256, use_wandb=False):\n",
    "        \n",
    "        self.device = device\n",
    "        self.config = SimpleNamespace(device=device)\n",
    "        \n",
    "        self.model = model.to(device)\n",
    "        \n",
    "        self.train_ds = tv.datasets.FashionMNIST(data_path, download=True, \n",
    "                                                 transform=tfms[\"train\"])\n",
    "        self.valid_ds = tv.datasets.FashionMNIST(data_path, download=True, train=False, \n",
    "                                                 transform=tfms[\"valid\"])\n",
    "        \n",
    "        self.train_acc = MulticlassAccuracy(device=device)\n",
    "        self.valid_acc = MulticlassAccuracy(device=device)\n",
    "        self.loss = Mean()\n",
    "        \n",
    "        self.do_validation = True\n",
    "        \n",
    "        self.dataloaders(bs=bs)\n",
    "        self.config.tfms = tfms\n",
    "        \n",
    "        self.use_wandb = use_wandb\n",
    "        \n",
    "        # get validation data reference\n",
    "        if use_wandb:\n",
    "            self.preds_logger = PredsLogger(ds=self.valid_ds) \n",
    "    \n",
    "    @classmethod\n",
    "    def from_timm(cls, model_name, data_path=\".\", tfms=tfms, device=\"cuda\", bs=256 ):\n",
    "        model = timm.create_model(model_name, pretrained=False, num_classes=10, in_chans=1)\n",
    "        image_model = cls(model, data_path, tfms, device, bs)\n",
    "        image_model.config.model_name = model_name\n",
    "        return image_model\n",
    "            \n",
    "    def dataloaders(self, bs=128, num_workers=8):\n",
    "        self.config.bs = bs\n",
    "        self.num_workers = num_workers\n",
    "        self.train_dataloader = DataLoader(self.train_ds, batch_size=bs, shuffle=True, \n",
    "                                   pin_memory=True, num_workers=num_workers)\n",
    "        self.valid_dataloader = DataLoader(self.valid_ds, batch_size=bs*2, shuffle=False, \n",
    "                                   num_workers=num_workers)\n",
    "    \n",
    "    def log(self, d):\n",
    "        if self.use_wandb and (wandb.run is not None):\n",
    "            wandb.log(d)\n",
    "    \n",
    "    def compile(self, epochs=5, lr=2e-3, wd=0.01):\n",
    "        self.config.epochs = epochs\n",
    "        self.config.lr = lr\n",
    "        self.config.wd = wd\n",
    "        \n",
    "        self.optim = AdamW(self.model.parameters(), weight_decay=wd)\n",
    "        self.loss_func = nn.CrossEntropyLoss()\n",
    "        self.schedule = OneCycleLR(self.optim, \n",
    "                                   max_lr=lr, \n",
    "                                   total_steps=epochs*len(self.train_dataloader))\n",
    "    \n",
    "    def reset_metrics(self):\n",
    "        self.train_acc.reset()\n",
    "        self.valid_acc.reset()\n",
    "        self.loss.reset()\n",
    "        \n",
    "    def train_step(self, loss):\n",
    "        self.optim.zero_grad()\n",
    "        loss.backward()\n",
    "        self.optim.step()\n",
    "        self.schedule.step()\n",
    "        return loss\n",
    "        \n",
    "    def one_epoch(self, train=True):\n",
    "        if train: \n",
    "            self.model.train()\n",
    "            dl = self.train_dataloader\n",
    "        else: \n",
    "            self.model.eval()\n",
    "            dl = self.valid_dataloader\n",
    "        pbar = progress_bar(dl, leave=False)\n",
    "        preds = []\n",
    "        for i, b in enumerate(pbar):\n",
    "            with (torch.inference_mode() if not train else torch.enable_grad()):\n",
    "                images, labels = to_device(b, self.device)\n",
    "                # with torch.autocast(\"cuda\"):\n",
    "                preds_b = self.model(images)\n",
    "                loss = self.loss_func(preds_b, labels)\n",
    "                self.loss.update(loss.detach().cpu(), weight=len(images))\n",
    "                preds.append(preds_b)\n",
    "                if train:\n",
    "                    self.train_step(loss)\n",
    "                    acc = self.train_acc.update(preds_b, labels)\n",
    "                    self.log({\"train_loss\": loss.item(),\n",
    "                              \"train_acc\": acc.compute(),\n",
    "                              \"learning_rate\": self.schedule.get_last_lr()[0]})\n",
    "                else:\n",
    "                    acc = self.valid_acc.update(preds_b, labels)\n",
    "            pbar.comment = f\"train_loss={loss.item():2.3f}, train_acc={acc.compute():2.3f}\"      \n",
    "            \n",
    "        return torch.cat(preds, dim=0), self.loss.compute()\n",
    "    \n",
    "    def log_preds(self, preds):\n",
    "        if self.use_wandb:\n",
    "            print(\"Logging model predictions on validation data\")\n",
    "            preds, _ = self.get_model_preds()\n",
    "            self.preds_logger.log(preds=preds)\n",
    "    \n",
    "    def get_model_preds(self, with_inputs=False):\n",
    "        preds, loss = self.one_epoch(train=False)\n",
    "        if with_inputs:\n",
    "            images, labels = self.get_data_tensors()\n",
    "            return images, labels, preds, loss\n",
    "        else:\n",
    "            return preds, loss\n",
    "            \n",
    "    def print_metrics(self, epoch, train_loss, val_loss):\n",
    "        print(f\"epoch: {epoch:3}, train_loss: {train_loss:10.3f}, train_acc: {self.train_acc.compute():3.3f}   ||   val_loss: {val_loss:10.3f}, val_acc: {self.valid_acc.compute():3.3f}\")\n",
    "    \n",
    "    def fit(self, log_preds=False):         \n",
    "        for epoch in progress_bar(range(self.config.epochs), total=self.config.epochs, leave=True):\n",
    "            _, train_loss = self.one_epoch(train=True)\n",
    "            \n",
    "            self.log({\"epoch\":epoch})\n",
    "                \n",
    "            ## validation\n",
    "            if self.do_validation:\n",
    "                _, val_loss = self.one_epoch(train=False)\n",
    "                self.log({\"val_loss\": val_loss,\n",
    "                          \"val_acc\": self.valid_acc.compute()})\n",
    "            self.print_metrics(epoch, train_loss, val_loss)\n",
    "            self.reset_metrics()\n",
    "        if log_preds:\n",
    "            self.log_preds(preds)"
   ]
  },
  {
   "cell_type": "markdown",
   "id": "8adc599e-cdb6-48a7-9575-37c84bf840ab",
   "metadata": {
    "tags": []
   },
   "source": [
    "## Timm"
   ]
  },
  {
   "cell_type": "code",
   "execution_count": 17,
   "id": "0d0ae698-94c6-4b82-8fe0-f81d3df0dc1c",
   "metadata": {},
   "outputs": [],
   "source": [
    "model = ImageModel.from_timm(model_name=\"resnet10t\", bs=512)"
   ]
  },
  {
   "cell_type": "code",
   "execution_count": 19,
   "id": "8df38540-b3cb-4dd0-a825-538af5d50301",
   "metadata": {},
   "outputs": [],
   "source": [
    "model.compile(epochs=2, lr=1e-2, wd=0.)"
   ]
  },
  {
   "cell_type": "code",
   "execution_count": 20,
   "id": "5a5b2d29-5902-449c-847b-3f07b5858867",
   "metadata": {},
   "outputs": [
    {
     "name": "stderr",
     "output_type": "stream",
     "text": [
      "Failed to detect the name of this notebook, you can set it manually with the WANDB_NOTEBOOK_NAME environment variable to enable code saving.\n",
      "\u001b[34m\u001b[1mwandb\u001b[0m: Currently logged in as: \u001b[33mcapecape\u001b[0m. Use \u001b[1m`wandb login --relogin`\u001b[0m to force relogin\n"
     ]
    },
    {
     "data": {
      "text/html": [
       "Tracking run with wandb version 0.13.7"
      ],
      "text/plain": [
       "<IPython.core.display.HTML object>"
      ]
     },
     "metadata": {},
     "output_type": "display_data"
    },
    {
     "data": {
      "text/html": [
       "Run data is saved locally in <code>/home/tcapelle/wandb/fmnist/wandb/run-20221223_152319-2ftuaxlr</code>"
      ],
      "text/plain": [
       "<IPython.core.display.HTML object>"
      ]
     },
     "metadata": {},
     "output_type": "display_data"
    },
    {
     "data": {
      "text/html": [
       "Syncing run <strong><a href=\"https://wandb.ai/capecape/fmnist_bench/runs/2ftuaxlr\" target=\"_blank\">dandy-pine-67</a></strong> to <a href=\"https://wandb.ai/capecape/fmnist_bench\" target=\"_blank\">Weights & Biases</a> (<a href=\"https://wandb.me/run\" target=\"_blank\">docs</a>)<br/>"
      ],
      "text/plain": [
       "<IPython.core.display.HTML object>"
      ]
     },
     "metadata": {},
     "output_type": "display_data"
    },
    {
     "data": {
      "text/html": [
       "\n",
       "<style>\n",
       "    /* Turns off some styling */\n",
       "    progress {\n",
       "        /* gets rid of default border in Firefox and Opera. */\n",
       "        border: none;\n",
       "        /* Needs to be in here for Safari polyfill so background images work as expected. */\n",
       "        background-size: auto;\n",
       "    }\n",
       "    progress:not([value]), progress:not([value])::-webkit-progress-bar {\n",
       "        background: repeating-linear-gradient(45deg, #7e7e7e, #7e7e7e 10px, #5c5c5c 10px, #5c5c5c 20px);\n",
       "    }\n",
       "    .progress-bar-interrupted, .progress-bar-interrupted::-webkit-progress-bar {\n",
       "        background: #F44336;\n",
       "    }\n",
       "</style>\n"
      ],
      "text/plain": [
       "<IPython.core.display.HTML object>"
      ]
     },
     "metadata": {},
     "output_type": "display_data"
    },
    {
     "data": {
      "text/html": [
       "\n",
       "    <div>\n",
       "      <progress value='2' class='' max='2' style='width:300px; height:20px; vertical-align: middle;'></progress>\n",
       "      100.00% [2/2 00:11&lt;00:00]\n",
       "    </div>\n",
       "    "
      ],
      "text/plain": [
       "<IPython.core.display.HTML object>"
      ]
     },
     "metadata": {},
     "output_type": "display_data"
    },
    {
     "data": {
      "text/html": [
       "\n",
       "<style>\n",
       "    /* Turns off some styling */\n",
       "    progress {\n",
       "        /* gets rid of default border in Firefox and Opera. */\n",
       "        border: none;\n",
       "        /* Needs to be in here for Safari polyfill so background images work as expected. */\n",
       "        background-size: auto;\n",
       "    }\n",
       "    progress:not([value]), progress:not([value])::-webkit-progress-bar {\n",
       "        background: repeating-linear-gradient(45deg, #7e7e7e, #7e7e7e 10px, #5c5c5c 10px, #5c5c5c 20px);\n",
       "    }\n",
       "    .progress-bar-interrupted, .progress-bar-interrupted::-webkit-progress-bar {\n",
       "        background: #F44336;\n",
       "    }\n",
       "</style>\n"
      ],
      "text/plain": [
       "<IPython.core.display.HTML object>"
      ]
     },
     "metadata": {},
     "output_type": "display_data"
    },
    {
     "data": {
      "text/html": [],
      "text/plain": [
       "<IPython.core.display.HTML object>"
      ]
     },
     "metadata": {},
     "output_type": "display_data"
    },
    {
     "data": {
      "text/html": [
       "\n",
       "<style>\n",
       "    /* Turns off some styling */\n",
       "    progress {\n",
       "        /* gets rid of default border in Firefox and Opera. */\n",
       "        border: none;\n",
       "        /* Needs to be in here for Safari polyfill so background images work as expected. */\n",
       "        background-size: auto;\n",
       "    }\n",
       "    progress:not([value]), progress:not([value])::-webkit-progress-bar {\n",
       "        background: repeating-linear-gradient(45deg, #7e7e7e, #7e7e7e 10px, #5c5c5c 10px, #5c5c5c 20px);\n",
       "    }\n",
       "    .progress-bar-interrupted, .progress-bar-interrupted::-webkit-progress-bar {\n",
       "        background: #F44336;\n",
       "    }\n",
       "</style>\n"
      ],
      "text/plain": [
       "<IPython.core.display.HTML object>"
      ]
     },
     "metadata": {},
     "output_type": "display_data"
    },
    {
     "data": {
      "text/html": [],
      "text/plain": [
       "<IPython.core.display.HTML object>"
      ]
     },
     "metadata": {},
     "output_type": "display_data"
    },
    {
     "name": "stdout",
     "output_type": "stream",
     "text": [
      "epoch:   0, train_loss:      0.736, train_acc: 0.734   ||   val_loss:      0.715, val_acc: 0.780\n"
     ]
    },
    {
     "data": {
      "text/html": [
       "\n",
       "<style>\n",
       "    /* Turns off some styling */\n",
       "    progress {\n",
       "        /* gets rid of default border in Firefox and Opera. */\n",
       "        border: none;\n",
       "        /* Needs to be in here for Safari polyfill so background images work as expected. */\n",
       "        background-size: auto;\n",
       "    }\n",
       "    progress:not([value]), progress:not([value])::-webkit-progress-bar {\n",
       "        background: repeating-linear-gradient(45deg, #7e7e7e, #7e7e7e 10px, #5c5c5c 10px, #5c5c5c 20px);\n",
       "    }\n",
       "    .progress-bar-interrupted, .progress-bar-interrupted::-webkit-progress-bar {\n",
       "        background: #F44336;\n",
       "    }\n",
       "</style>\n"
      ],
      "text/plain": [
       "<IPython.core.display.HTML object>"
      ]
     },
     "metadata": {},
     "output_type": "display_data"
    },
    {
     "data": {
      "text/html": [],
      "text/plain": [
       "<IPython.core.display.HTML object>"
      ]
     },
     "metadata": {},
     "output_type": "display_data"
    },
    {
     "data": {
      "text/html": [
       "\n",
       "<style>\n",
       "    /* Turns off some styling */\n",
       "    progress {\n",
       "        /* gets rid of default border in Firefox and Opera. */\n",
       "        border: none;\n",
       "        /* Needs to be in here for Safari polyfill so background images work as expected. */\n",
       "        background-size: auto;\n",
       "    }\n",
       "    progress:not([value]), progress:not([value])::-webkit-progress-bar {\n",
       "        background: repeating-linear-gradient(45deg, #7e7e7e, #7e7e7e 10px, #5c5c5c 10px, #5c5c5c 20px);\n",
       "    }\n",
       "    .progress-bar-interrupted, .progress-bar-interrupted::-webkit-progress-bar {\n",
       "        background: #F44336;\n",
       "    }\n",
       "</style>\n"
      ],
      "text/plain": [
       "<IPython.core.display.HTML object>"
      ]
     },
     "metadata": {},
     "output_type": "display_data"
    },
    {
     "data": {
      "text/html": [],
      "text/plain": [
       "<IPython.core.display.HTML object>"
      ]
     },
     "metadata": {},
     "output_type": "display_data"
    },
    {
     "name": "stdout",
     "output_type": "stream",
     "text": [
      "epoch:   1, train_loss:      0.355, train_acc: 0.869   ||   val_loss:      0.345, val_acc: 0.894\n"
     ]
    },
    {
     "data": {
      "text/html": [
       "Waiting for W&B process to finish... <strong style=\"color:green\">(success).</strong>"
      ],
      "text/plain": [
       "<IPython.core.display.HTML object>"
      ]
     },
     "metadata": {},
     "output_type": "display_data"
    },
    {
     "data": {
      "text/html": [
       "Synced <strong style=\"color:#cdcd00\">dandy-pine-67</strong>: <a href=\"https://wandb.ai/capecape/fmnist_bench/runs/2ftuaxlr\" target=\"_blank\">https://wandb.ai/capecape/fmnist_bench/runs/2ftuaxlr</a><br/>Synced 6 W&B file(s), 0 media file(s), 0 artifact file(s) and 0 other file(s)"
      ],
      "text/plain": [
       "<IPython.core.display.HTML object>"
      ]
     },
     "metadata": {},
     "output_type": "display_data"
    },
    {
     "data": {
      "text/html": [
       "Find logs at: <code>./wandb/run-20221223_152319-2ftuaxlr/logs</code>"
      ],
      "text/plain": [
       "<IPython.core.display.HTML object>"
      ]
     },
     "metadata": {},
     "output_type": "display_data"
    }
   ],
   "source": [
    "with wandb.init(project=WANDB_PROJECT, entity=WANDB_ENTITY, config=model.config):\n",
    "    model.fit()"
   ]
  },
  {
   "cell_type": "markdown",
   "id": "bcfcbe67-1995-445e-a29d-ab4b263a1ba9",
   "metadata": {},
   "source": [
    "## Jeremy's Resnet"
   ]
  },
  {
   "cell_type": "code",
   "execution_count": 27,
   "id": "ba494593-5195-4cfa-8b5a-2d0fafc91283",
   "metadata": {},
   "outputs": [],
   "source": [
    "from jeremy_resnet import resnet"
   ]
  },
  {
   "cell_type": "code",
   "execution_count": 28,
   "id": "6a5a5d54-be20-4ce7-9216-5e3560bf5c5e",
   "metadata": {},
   "outputs": [],
   "source": [
    "leak = 0.1\n",
    "sub = 0.4"
   ]
  },
  {
   "cell_type": "code",
   "execution_count": 29,
   "id": "9caaff35-956e-4e25-a676-fe2823cecd8e",
   "metadata": {},
   "outputs": [],
   "source": [
    "model = ImageModel(resnet(leak, sub), bs=512)\n",
    "model.config.model_name = {\"model_name\":\"jeremy\", \"leak\":leak, \"sub\":sub}"
   ]
  },
  {
   "cell_type": "code",
   "execution_count": 30,
   "id": "11bf52e4-c817-4ffe-a74b-40d044b8276f",
   "metadata": {},
   "outputs": [],
   "source": [
    "model.compile(epochs=2, lr=1e-2, wd=0.0)"
   ]
  },
  {
   "cell_type": "code",
   "execution_count": 31,
   "id": "34f41937-3510-439f-bffb-8bec9281b562",
   "metadata": {},
   "outputs": [
    {
     "data": {
      "text/html": [
       "Tracking run with wandb version 0.13.7"
      ],
      "text/plain": [
       "<IPython.core.display.HTML object>"
      ]
     },
     "metadata": {},
     "output_type": "display_data"
    },
    {
     "data": {
      "text/html": [
       "Run data is saved locally in <code>/home/tcapelle/wandb/fmnist/wandb/run-20221223_152420-31nesvv2</code>"
      ],
      "text/plain": [
       "<IPython.core.display.HTML object>"
      ]
     },
     "metadata": {},
     "output_type": "display_data"
    },
    {
     "data": {
      "text/html": [
       "Syncing run <strong><a href=\"https://wandb.ai/capecape/fmnist_bench/runs/31nesvv2\" target=\"_blank\">super-butterfly-68</a></strong> to <a href=\"https://wandb.ai/capecape/fmnist_bench\" target=\"_blank\">Weights & Biases</a> (<a href=\"https://wandb.me/run\" target=\"_blank\">docs</a>)<br/>"
      ],
      "text/plain": [
       "<IPython.core.display.HTML object>"
      ]
     },
     "metadata": {},
     "output_type": "display_data"
    },
    {
     "data": {
      "text/html": [
       "\n",
       "<style>\n",
       "    /* Turns off some styling */\n",
       "    progress {\n",
       "        /* gets rid of default border in Firefox and Opera. */\n",
       "        border: none;\n",
       "        /* Needs to be in here for Safari polyfill so background images work as expected. */\n",
       "        background-size: auto;\n",
       "    }\n",
       "    progress:not([value]), progress:not([value])::-webkit-progress-bar {\n",
       "        background: repeating-linear-gradient(45deg, #7e7e7e, #7e7e7e 10px, #5c5c5c 10px, #5c5c5c 20px);\n",
       "    }\n",
       "    .progress-bar-interrupted, .progress-bar-interrupted::-webkit-progress-bar {\n",
       "        background: #F44336;\n",
       "    }\n",
       "</style>\n"
      ],
      "text/plain": [
       "<IPython.core.display.HTML object>"
      ]
     },
     "metadata": {},
     "output_type": "display_data"
    },
    {
     "data": {
      "text/html": [
       "\n",
       "    <div>\n",
       "      <progress value='2' class='' max='2' style='width:300px; height:20px; vertical-align: middle;'></progress>\n",
       "      100.00% [2/2 00:18&lt;00:00]\n",
       "    </div>\n",
       "    "
      ],
      "text/plain": [
       "<IPython.core.display.HTML object>"
      ]
     },
     "metadata": {},
     "output_type": "display_data"
    },
    {
     "data": {
      "text/html": [
       "\n",
       "<style>\n",
       "    /* Turns off some styling */\n",
       "    progress {\n",
       "        /* gets rid of default border in Firefox and Opera. */\n",
       "        border: none;\n",
       "        /* Needs to be in here for Safari polyfill so background images work as expected. */\n",
       "        background-size: auto;\n",
       "    }\n",
       "    progress:not([value]), progress:not([value])::-webkit-progress-bar {\n",
       "        background: repeating-linear-gradient(45deg, #7e7e7e, #7e7e7e 10px, #5c5c5c 10px, #5c5c5c 20px);\n",
       "    }\n",
       "    .progress-bar-interrupted, .progress-bar-interrupted::-webkit-progress-bar {\n",
       "        background: #F44336;\n",
       "    }\n",
       "</style>\n"
      ],
      "text/plain": [
       "<IPython.core.display.HTML object>"
      ]
     },
     "metadata": {},
     "output_type": "display_data"
    },
    {
     "data": {
      "text/html": [],
      "text/plain": [
       "<IPython.core.display.HTML object>"
      ]
     },
     "metadata": {},
     "output_type": "display_data"
    },
    {
     "data": {
      "text/html": [
       "\n",
       "<style>\n",
       "    /* Turns off some styling */\n",
       "    progress {\n",
       "        /* gets rid of default border in Firefox and Opera. */\n",
       "        border: none;\n",
       "        /* Needs to be in here for Safari polyfill so background images work as expected. */\n",
       "        background-size: auto;\n",
       "    }\n",
       "    progress:not([value]), progress:not([value])::-webkit-progress-bar {\n",
       "        background: repeating-linear-gradient(45deg, #7e7e7e, #7e7e7e 10px, #5c5c5c 10px, #5c5c5c 20px);\n",
       "    }\n",
       "    .progress-bar-interrupted, .progress-bar-interrupted::-webkit-progress-bar {\n",
       "        background: #F44336;\n",
       "    }\n",
       "</style>\n"
      ],
      "text/plain": [
       "<IPython.core.display.HTML object>"
      ]
     },
     "metadata": {},
     "output_type": "display_data"
    },
    {
     "data": {
      "text/html": [],
      "text/plain": [
       "<IPython.core.display.HTML object>"
      ]
     },
     "metadata": {},
     "output_type": "display_data"
    },
    {
     "name": "stdout",
     "output_type": "stream",
     "text": [
      "epoch:   0, train_loss:      0.780, train_acc: 0.768   ||   val_loss:      0.736, val_acc: 0.840\n"
     ]
    },
    {
     "data": {
      "text/html": [
       "\n",
       "<style>\n",
       "    /* Turns off some styling */\n",
       "    progress {\n",
       "        /* gets rid of default border in Firefox and Opera. */\n",
       "        border: none;\n",
       "        /* Needs to be in here for Safari polyfill so background images work as expected. */\n",
       "        background-size: auto;\n",
       "    }\n",
       "    progress:not([value]), progress:not([value])::-webkit-progress-bar {\n",
       "        background: repeating-linear-gradient(45deg, #7e7e7e, #7e7e7e 10px, #5c5c5c 10px, #5c5c5c 20px);\n",
       "    }\n",
       "    .progress-bar-interrupted, .progress-bar-interrupted::-webkit-progress-bar {\n",
       "        background: #F44336;\n",
       "    }\n",
       "</style>\n"
      ],
      "text/plain": [
       "<IPython.core.display.HTML object>"
      ]
     },
     "metadata": {},
     "output_type": "display_data"
    },
    {
     "data": {
      "text/html": [],
      "text/plain": [
       "<IPython.core.display.HTML object>"
      ]
     },
     "metadata": {},
     "output_type": "display_data"
    },
    {
     "data": {
      "text/html": [
       "\n",
       "<style>\n",
       "    /* Turns off some styling */\n",
       "    progress {\n",
       "        /* gets rid of default border in Firefox and Opera. */\n",
       "        border: none;\n",
       "        /* Needs to be in here for Safari polyfill so background images work as expected. */\n",
       "        background-size: auto;\n",
       "    }\n",
       "    progress:not([value]), progress:not([value])::-webkit-progress-bar {\n",
       "        background: repeating-linear-gradient(45deg, #7e7e7e, #7e7e7e 10px, #5c5c5c 10px, #5c5c5c 20px);\n",
       "    }\n",
       "    .progress-bar-interrupted, .progress-bar-interrupted::-webkit-progress-bar {\n",
       "        background: #F44336;\n",
       "    }\n",
       "</style>\n"
      ],
      "text/plain": [
       "<IPython.core.display.HTML object>"
      ]
     },
     "metadata": {},
     "output_type": "display_data"
    },
    {
     "data": {
      "text/html": [],
      "text/plain": [
       "<IPython.core.display.HTML object>"
      ]
     },
     "metadata": {},
     "output_type": "display_data"
    },
    {
     "name": "stdout",
     "output_type": "stream",
     "text": [
      "epoch:   1, train_loss:      0.411, train_acc: 0.863   ||   val_loss:      0.399, val_acc: 0.888\n"
     ]
    },
    {
     "data": {
      "text/html": [
       "Waiting for W&B process to finish... <strong style=\"color:green\">(success).</strong>"
      ],
      "text/plain": [
       "<IPython.core.display.HTML object>"
      ]
     },
     "metadata": {},
     "output_type": "display_data"
    },
    {
     "data": {
      "text/html": [
       "Synced <strong style=\"color:#cdcd00\">super-butterfly-68</strong>: <a href=\"https://wandb.ai/capecape/fmnist_bench/runs/31nesvv2\" target=\"_blank\">https://wandb.ai/capecape/fmnist_bench/runs/31nesvv2</a><br/>Synced 6 W&B file(s), 0 media file(s), 0 artifact file(s) and 0 other file(s)"
      ],
      "text/plain": [
       "<IPython.core.display.HTML object>"
      ]
     },
     "metadata": {},
     "output_type": "display_data"
    },
    {
     "data": {
      "text/html": [
       "Find logs at: <code>./wandb/run-20221223_152420-31nesvv2/logs</code>"
      ],
      "text/plain": [
       "<IPython.core.display.HTML object>"
      ]
     },
     "metadata": {},
     "output_type": "display_data"
    }
   ],
   "source": [
    "with wandb.init(project=WANDB_PROJECT, entity=WANDB_ENTITY, config=model.config, tags=[\"jeremy\"]):\n",
    "    model.fit()"
   ]
  }
 ],
 "metadata": {
  "kernelspec": {
   "display_name": "Python 3 (ipykernel)",
   "language": "python",
   "name": "python3"
  },
  "language_info": {
   "codemirror_mode": {
    "name": "ipython",
    "version": 3
   },
   "file_extension": ".py",
   "mimetype": "text/x-python",
   "name": "python",
   "nbconvert_exporter": "python",
   "pygments_lexer": "ipython3",
   "version": "3.9.15"
  }
 },
 "nbformat": 4,
 "nbformat_minor": 5
}
