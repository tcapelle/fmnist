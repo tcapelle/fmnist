{
 "cells": [
  {
   "cell_type": "code",
   "execution_count": 1,
   "id": "54555572-acf6-4f3b-807c-b3cf841f84b7",
   "metadata": {},
   "outputs": [],
   "source": [
    "import wandb\n",
    "import torch\n",
    "import torch.nn as nn\n",
    "import torchvision.transforms as T\n",
    "import timm\n",
    "\n",
    "from train import FashionTrainer, config, set_seed, model_size"
   ]
  },
  {
   "cell_type": "markdown",
   "id": "9614fa2c-f65c-439a-a93d-28f187b23c01",
   "metadata": {},
   "source": [
    "## Baseline"
   ]
  },
  {
   "cell_type": "code",
   "execution_count": 2,
   "id": "0aea6f70-863c-40d0-b709-edfeb36f8d71",
   "metadata": {},
   "outputs": [],
   "source": [
    "WANDB_PROJECT = \"fmnist_bench\"\n",
    "WANDB_ENTITY = \"capecape\""
   ]
  },
  {
   "cell_type": "code",
   "execution_count": 3,
   "id": "4174ad2c-7d60-47d5-9962-418125c5650d",
   "metadata": {},
   "outputs": [
    {
     "data": {
      "text/plain": [
       "namespace(epochs=20,\n",
       "          model_name='resnet10t',\n",
       "          bs=512,\n",
       "          device='cuda',\n",
       "          seed=42,\n",
       "          lr=0.001,\n",
       "          use_wandb=True,\n",
       "          wd=0.0,\n",
       "          tfms={'train': Compose(\n",
       "                    RandomCrop(size=(28, 28), padding=1)\n",
       "                    RandomHorizontalFlip(p=0.5)\n",
       "                    ToTensor()\n",
       "                    Normalize(mean=0.28, std=0.35)\n",
       "                    RandomErasing(p=0.5, scale=(0.02, 0.25), ratio=(0.3, 3.3), value=random, inplace=False)\n",
       "                ),\n",
       "                'valid': Compose(\n",
       "                    ToTensor()\n",
       "                    Normalize(mean=0.28, std=0.35)\n",
       "                )})"
      ]
     },
     "execution_count": 3,
     "metadata": {},
     "output_type": "execute_result"
    }
   ],
   "source": [
    "config"
   ]
  },
  {
   "cell_type": "code",
   "execution_count": 4,
   "id": "778e5213-2626-4b96-99cf-bd0cf73fc75d",
   "metadata": {},
   "outputs": [],
   "source": [
    "config.epochs = 5\n",
    "config.lr = 5e-2"
   ]
  },
  {
   "cell_type": "code",
   "execution_count": 5,
   "id": "d849eb84-d7e1-477a-8ff5-711c574e7289",
   "metadata": {},
   "outputs": [],
   "source": [
    "set_seed(config.seed)"
   ]
  },
  {
   "cell_type": "code",
   "execution_count": 6,
   "id": "c763da07-4d6b-42f1-83eb-ab0b3efa0b99",
   "metadata": {},
   "outputs": [],
   "source": [
    "mean, std = (0.28, 0.35)"
   ]
  },
  {
   "cell_type": "code",
   "execution_count": 7,
   "id": "cf537eee-51d0-4fc9-bee3-0eb87bd08264",
   "metadata": {},
   "outputs": [],
   "source": [
    "train_tfms = T.Compose([\n",
    "    T.RandomCrop(28, padding=1), \n",
    "    T.RandomHorizontalFlip(),\n",
    "    T.ToTensor(),\n",
    "    T.Normalize(mean, std),\n",
    "    # T.RandomErasing(scale=(0.02, 0.25), value=\"random\"),\n",
    "])\n",
    "\n",
    "val_tfms = T.Compose([\n",
    "    T.ToTensor(),\n",
    "    T.Normalize(mean, std),\n",
    "])\n",
    "\n",
    "tfms = {\"train\": train_tfms, \"valid\":val_tfms}"
   ]
  },
  {
   "cell_type": "markdown",
   "id": "ec14fb11-fea2-4f37-85ea-a03c1fbd3399",
   "metadata": {},
   "source": [
    "## Train"
   ]
  },
  {
   "cell_type": "code",
   "execution_count": 8,
   "id": "139e5e8a-cbe7-4ecb-afc8-8e5e0136fc96",
   "metadata": {},
   "outputs": [],
   "source": [
    "from timm.models.convmixer import ConvMixer"
   ]
  },
  {
   "cell_type": "code",
   "execution_count": 9,
   "id": "2f95be77-3783-45e6-8542-2080e2588291",
   "metadata": {},
   "outputs": [],
   "source": [
    "model_params = {\"kernel_size\":5, \"dim\":512, \"depth\":8, \"patch_size\":2, \"in_chans\":1, \"num_classes\":10}\n",
    "module = ConvMixer(**model_params)\n",
    "module.head = nn.Sequential(\n",
    "    nn.Dropout(0.2), \n",
    "    nn.Flatten(), \n",
    "    nn.Linear(model_params[\"dim\"], model_params[\"num_classes\"], bias=False), \n",
    "    nn.BatchNorm1d(model_params[\"num_classes\"])\n",
    ")\n",
    "config.model_name = \"convmixer\"\n",
    "config.model_params = model_params\n",
    "config.model_size = model_size(module)\n",
    "config.lsuv = False"
   ]
  },
  {
   "cell_type": "code",
   "execution_count": 10,
   "id": "326ccc65-d321-4ee7-93fa-047e0d2c2a96",
   "metadata": {},
   "outputs": [],
   "source": [
    "config.epochs = 5\n",
    "config.lr = 7e-3\n",
    "config.bs = 64\n",
    "\n",
    "model = FashionTrainer(module, bs=config.bs, tfms=tfms)\n",
    "\n",
    "model.compile(epochs=config.epochs, lr=config.lr, wd=config.wd)"
   ]
  },
  {
   "cell_type": "code",
   "execution_count": 11,
   "id": "7e7514be-b9fd-4a8b-a014-1c8e961d1d89",
   "metadata": {},
   "outputs": [
    {
     "name": "stderr",
     "output_type": "stream",
     "text": [
      "Failed to detect the name of this notebook, you can set it manually with the WANDB_NOTEBOOK_NAME environment variable to enable code saving.\n",
      "\u001b[34m\u001b[1mwandb\u001b[0m: Currently logged in as: \u001b[33mcapecape\u001b[0m. Use \u001b[1m`wandb login --relogin`\u001b[0m to force relogin\n"
     ]
    },
    {
     "data": {
      "text/html": [
       "Tracking run with wandb version 0.13.7"
      ],
      "text/plain": [
       "<IPython.core.display.HTML object>"
      ]
     },
     "metadata": {},
     "output_type": "display_data"
    },
    {
     "data": {
      "text/html": [
       "Run data is saved locally in <code>/home/tcapelle/wandb/fmnist/wandb/run-20230105_195407-3upd0z45</code>"
      ],
      "text/plain": [
       "<IPython.core.display.HTML object>"
      ]
     },
     "metadata": {},
     "output_type": "display_data"
    },
    {
     "data": {
      "text/html": [
       "Syncing run <strong><a href=\"https://wandb.ai/capecape/fmnist_bench/runs/3upd0z45\" target=\"_blank\">laced-energy-147</a></strong> to <a href=\"https://wandb.ai/capecape/fmnist_bench\" target=\"_blank\">Weights & Biases</a> (<a href=\"https://wandb.me/run\" target=\"_blank\">docs</a>)<br/>"
      ],
      "text/plain": [
       "<IPython.core.display.HTML object>"
      ]
     },
     "metadata": {},
     "output_type": "display_data"
    },
    {
     "data": {
      "text/html": [
       "\n",
       "<style>\n",
       "    /* Turns off some styling */\n",
       "    progress {\n",
       "        /* gets rid of default border in Firefox and Opera. */\n",
       "        border: none;\n",
       "        /* Needs to be in here for Safari polyfill so background images work as expected. */\n",
       "        background-size: auto;\n",
       "    }\n",
       "    progress:not([value]), progress:not([value])::-webkit-progress-bar {\n",
       "        background: repeating-linear-gradient(45deg, #7e7e7e, #7e7e7e 10px, #5c5c5c 10px, #5c5c5c 20px);\n",
       "    }\n",
       "    .progress-bar-interrupted, .progress-bar-interrupted::-webkit-progress-bar {\n",
       "        background: #F44336;\n",
       "    }\n",
       "</style>\n"
      ],
      "text/plain": [
       "<IPython.core.display.HTML object>"
      ]
     },
     "metadata": {},
     "output_type": "display_data"
    },
    {
     "data": {
      "text/html": [
       "\n",
       "    <div>\n",
       "      <progress value='5' class='' max='5' style='width:300px; height:20px; vertical-align: middle;'></progress>\n",
       "      100.00% [5/5 03:20&lt;00:00]\n",
       "    </div>\n",
       "    "
      ],
      "text/plain": [
       "<IPython.core.display.HTML object>"
      ]
     },
     "metadata": {},
     "output_type": "display_data"
    },
    {
     "data": {
      "text/html": [
       "\n",
       "<style>\n",
       "    /* Turns off some styling */\n",
       "    progress {\n",
       "        /* gets rid of default border in Firefox and Opera. */\n",
       "        border: none;\n",
       "        /* Needs to be in here for Safari polyfill so background images work as expected. */\n",
       "        background-size: auto;\n",
       "    }\n",
       "    progress:not([value]), progress:not([value])::-webkit-progress-bar {\n",
       "        background: repeating-linear-gradient(45deg, #7e7e7e, #7e7e7e 10px, #5c5c5c 10px, #5c5c5c 20px);\n",
       "    }\n",
       "    .progress-bar-interrupted, .progress-bar-interrupted::-webkit-progress-bar {\n",
       "        background: #F44336;\n",
       "    }\n",
       "</style>\n"
      ],
      "text/plain": [
       "<IPython.core.display.HTML object>"
      ]
     },
     "metadata": {},
     "output_type": "display_data"
    },
    {
     "data": {
      "text/html": [],
      "text/plain": [
       "<IPython.core.display.HTML object>"
      ]
     },
     "metadata": {},
     "output_type": "display_data"
    },
    {
     "data": {
      "text/html": [
       "\n",
       "<style>\n",
       "    /* Turns off some styling */\n",
       "    progress {\n",
       "        /* gets rid of default border in Firefox and Opera. */\n",
       "        border: none;\n",
       "        /* Needs to be in here for Safari polyfill so background images work as expected. */\n",
       "        background-size: auto;\n",
       "    }\n",
       "    progress:not([value]), progress:not([value])::-webkit-progress-bar {\n",
       "        background: repeating-linear-gradient(45deg, #7e7e7e, #7e7e7e 10px, #5c5c5c 10px, #5c5c5c 20px);\n",
       "    }\n",
       "    .progress-bar-interrupted, .progress-bar-interrupted::-webkit-progress-bar {\n",
       "        background: #F44336;\n",
       "    }\n",
       "</style>\n"
      ],
      "text/plain": [
       "<IPython.core.display.HTML object>"
      ]
     },
     "metadata": {},
     "output_type": "display_data"
    },
    {
     "data": {
      "text/html": [],
      "text/plain": [
       "<IPython.core.display.HTML object>"
      ]
     },
     "metadata": {},
     "output_type": "display_data"
    },
    {
     "name": "stdout",
     "output_type": "stream",
     "text": [
      "epoch:   0, train_loss:      0.552, train_acc: 0.832   ||   val_loss:      0.530, val_acc: 0.851\n"
     ]
    },
    {
     "data": {
      "text/html": [
       "\n",
       "<style>\n",
       "    /* Turns off some styling */\n",
       "    progress {\n",
       "        /* gets rid of default border in Firefox and Opera. */\n",
       "        border: none;\n",
       "        /* Needs to be in here for Safari polyfill so background images work as expected. */\n",
       "        background-size: auto;\n",
       "    }\n",
       "    progress:not([value]), progress:not([value])::-webkit-progress-bar {\n",
       "        background: repeating-linear-gradient(45deg, #7e7e7e, #7e7e7e 10px, #5c5c5c 10px, #5c5c5c 20px);\n",
       "    }\n",
       "    .progress-bar-interrupted, .progress-bar-interrupted::-webkit-progress-bar {\n",
       "        background: #F44336;\n",
       "    }\n",
       "</style>\n"
      ],
      "text/plain": [
       "<IPython.core.display.HTML object>"
      ]
     },
     "metadata": {},
     "output_type": "display_data"
    },
    {
     "data": {
      "text/html": [],
      "text/plain": [
       "<IPython.core.display.HTML object>"
      ]
     },
     "metadata": {},
     "output_type": "display_data"
    },
    {
     "data": {
      "text/html": [
       "\n",
       "<style>\n",
       "    /* Turns off some styling */\n",
       "    progress {\n",
       "        /* gets rid of default border in Firefox and Opera. */\n",
       "        border: none;\n",
       "        /* Needs to be in here for Safari polyfill so background images work as expected. */\n",
       "        background-size: auto;\n",
       "    }\n",
       "    progress:not([value]), progress:not([value])::-webkit-progress-bar {\n",
       "        background: repeating-linear-gradient(45deg, #7e7e7e, #7e7e7e 10px, #5c5c5c 10px, #5c5c5c 20px);\n",
       "    }\n",
       "    .progress-bar-interrupted, .progress-bar-interrupted::-webkit-progress-bar {\n",
       "        background: #F44336;\n",
       "    }\n",
       "</style>\n"
      ],
      "text/plain": [
       "<IPython.core.display.HTML object>"
      ]
     },
     "metadata": {},
     "output_type": "display_data"
    },
    {
     "data": {
      "text/html": [],
      "text/plain": [
       "<IPython.core.display.HTML object>"
      ]
     },
     "metadata": {},
     "output_type": "display_data"
    },
    {
     "name": "stdout",
     "output_type": "stream",
     "text": [
      "epoch:   1, train_loss:      0.311, train_acc: 0.891   ||   val_loss:      0.306, val_acc: 0.904\n"
     ]
    },
    {
     "data": {
      "text/html": [
       "\n",
       "<style>\n",
       "    /* Turns off some styling */\n",
       "    progress {\n",
       "        /* gets rid of default border in Firefox and Opera. */\n",
       "        border: none;\n",
       "        /* Needs to be in here for Safari polyfill so background images work as expected. */\n",
       "        background-size: auto;\n",
       "    }\n",
       "    progress:not([value]), progress:not([value])::-webkit-progress-bar {\n",
       "        background: repeating-linear-gradient(45deg, #7e7e7e, #7e7e7e 10px, #5c5c5c 10px, #5c5c5c 20px);\n",
       "    }\n",
       "    .progress-bar-interrupted, .progress-bar-interrupted::-webkit-progress-bar {\n",
       "        background: #F44336;\n",
       "    }\n",
       "</style>\n"
      ],
      "text/plain": [
       "<IPython.core.display.HTML object>"
      ]
     },
     "metadata": {},
     "output_type": "display_data"
    },
    {
     "data": {
      "text/html": [],
      "text/plain": [
       "<IPython.core.display.HTML object>"
      ]
     },
     "metadata": {},
     "output_type": "display_data"
    },
    {
     "data": {
      "text/html": [
       "\n",
       "<style>\n",
       "    /* Turns off some styling */\n",
       "    progress {\n",
       "        /* gets rid of default border in Firefox and Opera. */\n",
       "        border: none;\n",
       "        /* Needs to be in here for Safari polyfill so background images work as expected. */\n",
       "        background-size: auto;\n",
       "    }\n",
       "    progress:not([value]), progress:not([value])::-webkit-progress-bar {\n",
       "        background: repeating-linear-gradient(45deg, #7e7e7e, #7e7e7e 10px, #5c5c5c 10px, #5c5c5c 20px);\n",
       "    }\n",
       "    .progress-bar-interrupted, .progress-bar-interrupted::-webkit-progress-bar {\n",
       "        background: #F44336;\n",
       "    }\n",
       "</style>\n"
      ],
      "text/plain": [
       "<IPython.core.display.HTML object>"
      ]
     },
     "metadata": {},
     "output_type": "display_data"
    },
    {
     "data": {
      "text/html": [],
      "text/plain": [
       "<IPython.core.display.HTML object>"
      ]
     },
     "metadata": {},
     "output_type": "display_data"
    },
    {
     "name": "stdout",
     "output_type": "stream",
     "text": [
      "epoch:   2, train_loss:      0.250, train_acc: 0.913   ||   val_loss:      0.246, val_acc: 0.919\n"
     ]
    },
    {
     "data": {
      "text/html": [
       "\n",
       "<style>\n",
       "    /* Turns off some styling */\n",
       "    progress {\n",
       "        /* gets rid of default border in Firefox and Opera. */\n",
       "        border: none;\n",
       "        /* Needs to be in here for Safari polyfill so background images work as expected. */\n",
       "        background-size: auto;\n",
       "    }\n",
       "    progress:not([value]), progress:not([value])::-webkit-progress-bar {\n",
       "        background: repeating-linear-gradient(45deg, #7e7e7e, #7e7e7e 10px, #5c5c5c 10px, #5c5c5c 20px);\n",
       "    }\n",
       "    .progress-bar-interrupted, .progress-bar-interrupted::-webkit-progress-bar {\n",
       "        background: #F44336;\n",
       "    }\n",
       "</style>\n"
      ],
      "text/plain": [
       "<IPython.core.display.HTML object>"
      ]
     },
     "metadata": {},
     "output_type": "display_data"
    },
    {
     "data": {
      "text/html": [],
      "text/plain": [
       "<IPython.core.display.HTML object>"
      ]
     },
     "metadata": {},
     "output_type": "display_data"
    },
    {
     "data": {
      "text/html": [
       "\n",
       "<style>\n",
       "    /* Turns off some styling */\n",
       "    progress {\n",
       "        /* gets rid of default border in Firefox and Opera. */\n",
       "        border: none;\n",
       "        /* Needs to be in here for Safari polyfill so background images work as expected. */\n",
       "        background-size: auto;\n",
       "    }\n",
       "    progress:not([value]), progress:not([value])::-webkit-progress-bar {\n",
       "        background: repeating-linear-gradient(45deg, #7e7e7e, #7e7e7e 10px, #5c5c5c 10px, #5c5c5c 20px);\n",
       "    }\n",
       "    .progress-bar-interrupted, .progress-bar-interrupted::-webkit-progress-bar {\n",
       "        background: #F44336;\n",
       "    }\n",
       "</style>\n"
      ],
      "text/plain": [
       "<IPython.core.display.HTML object>"
      ]
     },
     "metadata": {},
     "output_type": "display_data"
    },
    {
     "data": {
      "text/html": [],
      "text/plain": [
       "<IPython.core.display.HTML object>"
      ]
     },
     "metadata": {},
     "output_type": "display_data"
    },
    {
     "name": "stdout",
     "output_type": "stream",
     "text": [
      "epoch:   3, train_loss:      0.200, train_acc: 0.930   ||   val_loss:      0.198, val_acc: 0.934\n"
     ]
    },
    {
     "data": {
      "text/html": [
       "\n",
       "<style>\n",
       "    /* Turns off some styling */\n",
       "    progress {\n",
       "        /* gets rid of default border in Firefox and Opera. */\n",
       "        border: none;\n",
       "        /* Needs to be in here for Safari polyfill so background images work as expected. */\n",
       "        background-size: auto;\n",
       "    }\n",
       "    progress:not([value]), progress:not([value])::-webkit-progress-bar {\n",
       "        background: repeating-linear-gradient(45deg, #7e7e7e, #7e7e7e 10px, #5c5c5c 10px, #5c5c5c 20px);\n",
       "    }\n",
       "    .progress-bar-interrupted, .progress-bar-interrupted::-webkit-progress-bar {\n",
       "        background: #F44336;\n",
       "    }\n",
       "</style>\n"
      ],
      "text/plain": [
       "<IPython.core.display.HTML object>"
      ]
     },
     "metadata": {},
     "output_type": "display_data"
    },
    {
     "data": {
      "text/html": [],
      "text/plain": [
       "<IPython.core.display.HTML object>"
      ]
     },
     "metadata": {},
     "output_type": "display_data"
    },
    {
     "data": {
      "text/html": [
       "\n",
       "<style>\n",
       "    /* Turns off some styling */\n",
       "    progress {\n",
       "        /* gets rid of default border in Firefox and Opera. */\n",
       "        border: none;\n",
       "        /* Needs to be in here for Safari polyfill so background images work as expected. */\n",
       "        background-size: auto;\n",
       "    }\n",
       "    progress:not([value]), progress:not([value])::-webkit-progress-bar {\n",
       "        background: repeating-linear-gradient(45deg, #7e7e7e, #7e7e7e 10px, #5c5c5c 10px, #5c5c5c 20px);\n",
       "    }\n",
       "    .progress-bar-interrupted, .progress-bar-interrupted::-webkit-progress-bar {\n",
       "        background: #F44336;\n",
       "    }\n",
       "</style>\n"
      ],
      "text/plain": [
       "<IPython.core.display.HTML object>"
      ]
     },
     "metadata": {},
     "output_type": "display_data"
    },
    {
     "data": {
      "text/html": [],
      "text/plain": [
       "<IPython.core.display.HTML object>"
      ]
     },
     "metadata": {},
     "output_type": "display_data"
    },
    {
     "name": "stdout",
     "output_type": "stream",
     "text": [
      "epoch:   4, train_loss:      0.157, train_acc: 0.946   ||   val_loss:      0.160, val_acc: 0.937\n"
     ]
    }
   ],
   "source": [
    "# train\n",
    "run = wandb.init(project=WANDB_PROJECT, entity=WANDB_ENTITY, config=config)\n",
    "model.fit()"
   ]
  },
  {
   "cell_type": "code",
   "execution_count": 12,
   "id": "82a57cc9-8a5b-4a24-a787-df948a8a8c62",
   "metadata": {},
   "outputs": [
    {
     "data": {
      "text/html": [
       "Waiting for W&B process to finish... <strong style=\"color:green\">(success).</strong>"
      ],
      "text/plain": [
       "<IPython.core.display.HTML object>"
      ]
     },
     "metadata": {},
     "output_type": "display_data"
    },
    {
     "data": {
      "text/html": [
       "<style>\n",
       "    table.wandb td:nth-child(1) { padding: 0 10px; text-align: left ; width: auto;} td:nth-child(2) {text-align: left ; width: 100%}\n",
       "    .wandb-row { display: flex; flex-direction: row; flex-wrap: wrap; justify-content: flex-start; width: 100% }\n",
       "    .wandb-col { display: flex; flex-direction: column; flex-basis: 100%; flex: 1; padding: 10px; }\n",
       "    </style>\n",
       "<div class=\"wandb-row\"><div class=\"wandb-col\"><h3>Run history:</h3><br/><table class=\"wandb\"><tr><td>epoch</td><td>▁▃▅▆█</td></tr><tr><td>learning_rate</td><td>▂▂▅▇██████▇▇▇▇▇▆▆▆▆▅▅▅▄▄▄▃▃▃▃▂▂▂▂▂▁▁▁▁▁▁</td></tr><tr><td>train_acc</td><td>▁▅▆▇█</td></tr><tr><td>train_loss</td><td>██▇▄▅▄▂▄▂▄▄▃▆▃▂▄▃▃▂▂▃▂▂▃▃▃▂▂▂▂▂▁▃▂▁▂▁▂▂▁</td></tr><tr><td>val_acc</td><td>▁▅▇██</td></tr><tr><td>val_loss</td><td>█▄▃▂▁</td></tr></table><br/></div><div class=\"wandb-col\"><h3>Run summary:</h3><br/><table class=\"wandb\"><tr><td>epoch</td><td>4</td></tr><tr><td>learning_rate</td><td>0.0</td></tr><tr><td>train_acc</td><td>0.94602</td></tr><tr><td>train_loss</td><td>0.29072</td></tr><tr><td>val_acc</td><td>0.9367</td></tr><tr><td>val_loss</td><td>0.1599</td></tr></table><br/></div></div>"
      ],
      "text/plain": [
       "<IPython.core.display.HTML object>"
      ]
     },
     "metadata": {},
     "output_type": "display_data"
    },
    {
     "data": {
      "text/html": [
       "Synced <strong style=\"color:#cdcd00\">laced-energy-147</strong>: <a href=\"https://wandb.ai/capecape/fmnist_bench/runs/3upd0z45\" target=\"_blank\">https://wandb.ai/capecape/fmnist_bench/runs/3upd0z45</a><br/>Synced 6 W&B file(s), 0 media file(s), 0 artifact file(s) and 0 other file(s)"
      ],
      "text/plain": [
       "<IPython.core.display.HTML object>"
      ]
     },
     "metadata": {},
     "output_type": "display_data"
    },
    {
     "data": {
      "text/html": [
       "Find logs at: <code>./wandb/run-20230105_195407-3upd0z45/logs</code>"
      ],
      "text/plain": [
       "<IPython.core.display.HTML object>"
      ]
     },
     "metadata": {},
     "output_type": "display_data"
    }
   ],
   "source": [
    "wandb.finish()"
   ]
  },
  {
   "cell_type": "code",
   "execution_count": null,
   "id": "c4d83503-9134-4ba3-ba38-eb7c003cfc53",
   "metadata": {},
   "outputs": [],
   "source": []
  },
  {
   "cell_type": "code",
   "execution_count": null,
   "id": "a4c00a15-d5c8-445d-8d67-95ffe9cc5186",
   "metadata": {},
   "outputs": [],
   "source": []
  },
  {
   "cell_type": "markdown",
   "id": "6c9ff5a8-0c5b-4682-9b58-b6a4756dc61d",
   "metadata": {},
   "source": [
    "more epochs"
   ]
  },
  {
   "cell_type": "code",
   "execution_count": null,
   "id": "49d21e0d-f44b-498f-ba5c-92a7226dec45",
   "metadata": {},
   "outputs": [],
   "source": []
  },
  {
   "cell_type": "code",
   "execution_count": null,
   "id": "d6a120a7-23d5-4076-9a42-74803393aac3",
   "metadata": {},
   "outputs": [],
   "source": []
  },
  {
   "cell_type": "code",
   "execution_count": null,
   "id": "0fb33326-0e50-44bc-b830-1339913be9f6",
   "metadata": {},
   "outputs": [],
   "source": []
  },
  {
   "cell_type": "code",
   "execution_count": 66,
   "id": "3899cfbe-195f-419e-845e-8a1a1073ed81",
   "metadata": {},
   "outputs": [],
   "source": [
    "config.epochs = 5\n",
    "config.lr = 1e-2\n",
    "\n",
    "model.compile(epochs=config.epochs, lr=config.lr, wd=config.wd)"
   ]
  },
  {
   "cell_type": "code",
   "execution_count": 67,
   "id": "4e7e9711-2e8c-4ae7-a802-f9b371480b47",
   "metadata": {},
   "outputs": [
    {
     "name": "stdout",
     "output_type": "stream",
     "text": [
      "epoch:   0, train_loss:      0.636, train_acc: 0.820   ||   val_loss:      0.633, val_acc: 0.798    \n",
      "epoch:   1, train_loss:      0.372, train_acc: 0.876   ||   val_loss:      0.368, val_acc: 0.875    \n",
      "epoch:   2, train_loss:      0.298, train_acc: 0.896   ||   val_loss:      0.292, val_acc: 0.911    \n",
      "epoch:   3, train_loss:      0.250, train_acc: 0.913   ||   val_loss:      0.246, val_acc: 0.922    \n",
      "epoch:   4, train_loss:      0.217, train_acc: 0.925   ||   val_loss:      0.216, val_acc: 0.927    \n",
      " |████████████████████████████████████████| 100.00% [5/5 01:19<00:00]\r"
     ]
    }
   ],
   "source": [
    "# train\n",
    "model.fit()"
   ]
  },
  {
   "cell_type": "code",
   "execution_count": 68,
   "id": "92001ec1-96ad-4d03-9e10-00fd625872ef",
   "metadata": {},
   "outputs": [],
   "source": [
    "config.epochs = 5\n",
    "config.lr = 5e-3\n",
    "\n",
    "model.compile(epochs=config.epochs, lr=config.lr, wd=config.wd)"
   ]
  },
  {
   "cell_type": "code",
   "execution_count": 69,
   "id": "6cf69a25-9d56-41d5-97cb-9d700f61873b",
   "metadata": {},
   "outputs": [
    {
     "name": "stdout",
     "output_type": "stream",
     "text": [
      "epoch:   0, train_loss:      0.255, train_acc: 0.911   ||   val_loss:      0.265, val_acc: 0.886    \n",
      "epoch:   1, train_loss:      0.252, train_acc: 0.910   ||   val_loss:      0.248, val_acc: 0.918    \n",
      "epoch:   2, train_loss:      0.221, train_acc: 0.922   ||   val_loss:      0.221, val_acc: 0.919    \n",
      "epoch:   3, train_loss:      0.191, train_acc: 0.931   ||   val_loss:      0.191, val_acc: 0.932    \n",
      "epoch:   4, train_loss:      0.173, train_acc: 0.939   ||   val_loss:      0.174, val_acc: 0.934    \n",
      " |████████████████████████████████████████| 100.00% [5/5 01:19<00:00]\r"
     ]
    }
   ],
   "source": [
    "# train\n",
    "model.fit()"
   ]
  },
  {
   "cell_type": "code",
   "execution_count": 70,
   "id": "621015de-91f4-40db-8df4-beba6b600a9f",
   "metadata": {},
   "outputs": [],
   "source": [
    "config.epochs = 5\n",
    "config.lr = 1e-3\n",
    "\n",
    "model.compile(epochs=config.epochs, lr=config.lr, wd=config.wd)"
   ]
  },
  {
   "cell_type": "code",
   "execution_count": 71,
   "id": "b68154e2-609e-43c4-af10-9c72bff5dfad",
   "metadata": {},
   "outputs": [
    {
     "name": "stdout",
     "output_type": "stream",
     "text": [
      "epoch:   0, train_loss:      0.174, train_acc: 0.938   ||   val_loss:      0.176, val_acc: 0.934    \n",
      "epoch:   1, train_loss:      0.169, train_acc: 0.940   ||   val_loss:      0.171, val_acc: 0.934    \n",
      "epoch:   2, train_loss:      0.162, train_acc: 0.942   ||   val_loss:      0.164, val_acc: 0.937    \n",
      "epoch:   3, train_loss:      0.153, train_acc: 0.946   ||   val_loss:      0.156, val_acc: 0.939    \n",
      "epoch:   4, train_loss:      0.146, train_acc: 0.949   ||   val_loss:      0.150, val_acc: 0.938    \n",
      " |████████████████████████████████████████| 100.00% [5/5 01:19<00:00]\r"
     ]
    }
   ],
   "source": [
    "# train\n",
    "model.fit()"
   ]
  },
  {
   "cell_type": "code",
   "execution_count": 72,
   "id": "89597603-33f6-4712-9e4f-1f00e6368c93",
   "metadata": {},
   "outputs": [
    {
     "data": {
      "text/html": [
       "Waiting for W&B process to finish... <strong style=\"color:green\">(success).</strong>"
      ],
      "text/plain": [
       "<IPython.core.display.HTML object>"
      ]
     },
     "metadata": {},
     "output_type": "display_data"
    },
    {
     "data": {
      "text/html": [
       "<style>\n",
       "    table.wandb td:nth-child(1) { padding: 0 10px; text-align: left ; width: auto;} td:nth-child(2) {text-align: left ; width: 100%}\n",
       "    .wandb-row { display: flex; flex-direction: row; flex-wrap: wrap; justify-content: flex-start; width: 100% }\n",
       "    .wandb-col { display: flex; flex-direction: column; flex-basis: 100%; flex: 1; padding: 10px; }\n",
       "    </style>\n",
       "<div class=\"wandb-row\"><div class=\"wandb-col\"><h3>Run history:</h3><br/><table class=\"wandb\"><tr><td>epoch</td><td>▁▃▅▆█▁▃▅▆█▁▃▅▆█▁▃▅▆█</td></tr><tr><td>learning_rate</td><td>▁▁▁▁▁▁▁▁▁▁▃██▇▆▅▄▂▁▁▁▅▄▄▃▃▂▂▁▁▁▂▂▂▂▁▁▁▁▁</td></tr><tr><td>train_acc</td><td>▁▅▅▅▆▆▇▇▇█▇▇████████</td></tr><tr><td>train_loss</td><td>█▆▅▅▄▄▄▄▄▄▄▃▂▂▂▂▂▁▁▁▁▂▂▂▂▂▁▁▁▁▁▁▁▁▁▁▁▁▁▁</td></tr><tr><td>val_acc</td><td>▁▃▃▄▄▂▅▇▇█▆▇▇███████</td></tr><tr><td>val_loss</td><td>█▅▅▅▅▄▂▂▂▁▂▂▁▁▁▁▁▁▁▁</td></tr></table><br/></div><div class=\"wandb-col\"><h3>Run summary:</h3><br/><table class=\"wandb\"><tr><td>epoch</td><td>4</td></tr><tr><td>learning_rate</td><td>0.0</td></tr><tr><td>train_acc</td><td>0.94922</td></tr><tr><td>train_loss</td><td>0.1598</td></tr><tr><td>val_acc</td><td>0.9384</td></tr><tr><td>val_loss</td><td>0.15042</td></tr></table><br/></div></div>"
      ],
      "text/plain": [
       "<IPython.core.display.HTML object>"
      ]
     },
     "metadata": {},
     "output_type": "display_data"
    },
    {
     "data": {
      "text/html": [
       "Synced <strong style=\"color:#cdcd00\">serene-galaxy-125</strong>: <a href=\"https://wandb.ai/capecape/fmnist_bench/runs/276uavsr\" target=\"_blank\">https://wandb.ai/capecape/fmnist_bench/runs/276uavsr</a><br/>Synced 6 W&B file(s), 0 media file(s), 0 artifact file(s) and 0 other file(s)"
      ],
      "text/plain": [
       "<IPython.core.display.HTML object>"
      ]
     },
     "metadata": {},
     "output_type": "display_data"
    },
    {
     "data": {
      "text/html": [
       "Find logs at: <code>./wandb/run-20230105_155522-276uavsr/logs</code>"
      ],
      "text/plain": [
       "<IPython.core.display.HTML object>"
      ]
     },
     "metadata": {},
     "output_type": "display_data"
    }
   ],
   "source": [
    "wandb.finish()"
   ]
  },
  {
   "cell_type": "code",
   "execution_count": null,
   "id": "5d0cf137-e210-48d9-9f5f-fa78c3f6c5e9",
   "metadata": {},
   "outputs": [],
   "source": []
  },
  {
   "cell_type": "code",
   "execution_count": null,
   "id": "54ec1dd1-ad0c-49aa-b0be-b2516e844d93",
   "metadata": {},
   "outputs": [],
   "source": []
  },
  {
   "cell_type": "code",
   "execution_count": null,
   "id": "aec1877e-22b5-4a94-a43e-28d8b1d99541",
   "metadata": {},
   "outputs": [],
   "source": []
  }
 ],
 "metadata": {
  "kernelspec": {
   "display_name": "Python 3 (ipykernel)",
   "language": "python",
   "name": "python3"
  },
  "language_info": {
   "codemirror_mode": {
    "name": "ipython",
    "version": 3
   },
   "file_extension": ".py",
   "mimetype": "text/x-python",
   "name": "python",
   "nbconvert_exporter": "python",
   "pygments_lexer": "ipython3",
   "version": "3.9.15"
  }
 },
 "nbformat": 4,
 "nbformat_minor": 5
}
